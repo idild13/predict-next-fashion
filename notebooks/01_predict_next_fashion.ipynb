{
  "cells": [
    {
      "cell_type": "markdown",
      "metadata": {
        "id": "view-in-github",
        "colab_type": "text"
      },
      "source": [
        "<a href=\"https://colab.research.google.com/github/idild13/predict-next-fashion/blob/main/notebooks/01_predict_next_fashion.ipynb\" target=\"_parent\"><img src=\"https://colab.research.google.com/assets/colab-badge.svg\" alt=\"Open In Colab\"/></a>"
      ]
    },
    {
      "cell_type": "markdown",
      "source": [
        " ![Emil](data:image/png;base64,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)"
      ],
      "metadata": {
        "id": "xDyD_rscpuk8"
      },
      "id": "xDyD_rscpuk8"
    },
    {
      "cell_type": "markdown",
      "id": "67167dd9-695b-45fc-ad77-1492a0c80231",
      "metadata": {
        "id": "67167dd9-695b-45fc-ad77-1492a0c80231"
      },
      "source": [
        "# Predict next fashion"
      ]
    },
    {
      "cell_type": "markdown",
      "source": [
        "Designing new products for a fashion line takes time. Taking finished products from design to market can have lead times of a year or more! Therefore, the ability to predict upcoming trends in the market has the potential to avoid financial losses and wastage.\n",
        "\n",
        "With that in mind, let's try using social network signals to anticipate and predict the next big fashion trends!"
      ],
      "metadata": {
        "id": "G2MTG_Wwp8f3"
      },
      "id": "G2MTG_Wwp8f3"
    },
    {
      "cell_type": "markdown",
      "id": "bdb8fc3f-c1d8-471d-901e-b2747aa5a73f",
      "metadata": {
        "id": "bdb8fc3f-c1d8-471d-901e-b2747aa5a73f"
      },
      "source": [
        "## Load data"
      ]
    },
    {
      "cell_type": "markdown",
      "id": "1f7e4ddb-6112-4f4f-932c-0c3d2bd002e4",
      "metadata": {
        "tags": [],
        "id": "1f7e4ddb-6112-4f4f-932c-0c3d2bd002e4"
      },
      "source": [
        "a) Download the [`tendances.csv`](https://drive.google.com/file/d/15xv2daQ03RnTL8fHksHxQFC3yrU7VFVg/view?usp=drive_link) file and import it to Colab.\n",
        "\n",
        "Let's take a look at the data. The columns represent different types of clothing and the rows represent dates between 2015 and 2019. The values correspond to an internal index related to their popularity on social networks.\n",
        "\n",
        "We're trying to predict future values for each type of clothing."
      ]
    },
    {
      "cell_type": "markdown",
      "id": "dcc8bf00-fdfa-4dea-ade0-1feff1e89d41",
      "metadata": {
        "id": "dcc8bf00-fdfa-4dea-ade0-1feff1e89d41"
      },
      "source": [
        "Load the data into a `df` DataFrame. Use the parameter `index_col=0` to set the first column as the index.\n",
        "\n",
        "What is the period? Weekly, monthly, ...?"
      ]
    },
    {
      "cell_type": "code",
      "source": [
        "from google.colab import files\n",
        "uploaded = files.upload()"
      ],
      "metadata": {
        "colab": {
          "base_uri": "https://localhost:8080/",
          "height": 74
        },
        "id": "70zIp6OWJyfR",
        "outputId": "110e1d2b-830a-4244-aaf3-d3e9af407746"
      },
      "id": "70zIp6OWJyfR",
      "execution_count": null,
      "outputs": [
        {
          "output_type": "display_data",
          "data": {
            "text/plain": [
              "<IPython.core.display.HTML object>"
            ],
            "text/html": [
              "\n",
              "     <input type=\"file\" id=\"files-68642aeb-0c91-41a7-a8bb-ca6e587db1ca\" name=\"files[]\" multiple disabled\n",
              "        style=\"border:none\" />\n",
              "     <output id=\"result-68642aeb-0c91-41a7-a8bb-ca6e587db1ca\">\n",
              "      Upload widget is only available when the cell has been executed in the\n",
              "      current browser session. Please rerun this cell to enable.\n",
              "      </output>\n",
              "      <script>// Copyright 2017 Google LLC\n",
              "//\n",
              "// Licensed under the Apache License, Version 2.0 (the \"License\");\n",
              "// you may not use this file except in compliance with the License.\n",
              "// You may obtain a copy of the License at\n",
              "//\n",
              "//      http://www.apache.org/licenses/LICENSE-2.0\n",
              "//\n",
              "// Unless required by applicable law or agreed to in writing, software\n",
              "// distributed under the License is distributed on an \"AS IS\" BASIS,\n",
              "// WITHOUT WARRANTIES OR CONDITIONS OF ANY KIND, either express or implied.\n",
              "// See the License for the specific language governing permissions and\n",
              "// limitations under the License.\n",
              "\n",
              "/**\n",
              " * @fileoverview Helpers for google.colab Python module.\n",
              " */\n",
              "(function(scope) {\n",
              "function span(text, styleAttributes = {}) {\n",
              "  const element = document.createElement('span');\n",
              "  element.textContent = text;\n",
              "  for (const key of Object.keys(styleAttributes)) {\n",
              "    element.style[key] = styleAttributes[key];\n",
              "  }\n",
              "  return element;\n",
              "}\n",
              "\n",
              "// Max number of bytes which will be uploaded at a time.\n",
              "const MAX_PAYLOAD_SIZE = 100 * 1024;\n",
              "\n",
              "function _uploadFiles(inputId, outputId) {\n",
              "  const steps = uploadFilesStep(inputId, outputId);\n",
              "  const outputElement = document.getElementById(outputId);\n",
              "  // Cache steps on the outputElement to make it available for the next call\n",
              "  // to uploadFilesContinue from Python.\n",
              "  outputElement.steps = steps;\n",
              "\n",
              "  return _uploadFilesContinue(outputId);\n",
              "}\n",
              "\n",
              "// This is roughly an async generator (not supported in the browser yet),\n",
              "// where there are multiple asynchronous steps and the Python side is going\n",
              "// to poll for completion of each step.\n",
              "// This uses a Promise to block the python side on completion of each step,\n",
              "// then passes the result of the previous step as the input to the next step.\n",
              "function _uploadFilesContinue(outputId) {\n",
              "  const outputElement = document.getElementById(outputId);\n",
              "  const steps = outputElement.steps;\n",
              "\n",
              "  const next = steps.next(outputElement.lastPromiseValue);\n",
              "  return Promise.resolve(next.value.promise).then((value) => {\n",
              "    // Cache the last promise value to make it available to the next\n",
              "    // step of the generator.\n",
              "    outputElement.lastPromiseValue = value;\n",
              "    return next.value.response;\n",
              "  });\n",
              "}\n",
              "\n",
              "/**\n",
              " * Generator function which is called between each async step of the upload\n",
              " * process.\n",
              " * @param {string} inputId Element ID of the input file picker element.\n",
              " * @param {string} outputId Element ID of the output display.\n",
              " * @return {!Iterable<!Object>} Iterable of next steps.\n",
              " */\n",
              "function* uploadFilesStep(inputId, outputId) {\n",
              "  const inputElement = document.getElementById(inputId);\n",
              "  inputElement.disabled = false;\n",
              "\n",
              "  const outputElement = document.getElementById(outputId);\n",
              "  outputElement.innerHTML = '';\n",
              "\n",
              "  const pickedPromise = new Promise((resolve) => {\n",
              "    inputElement.addEventListener('change', (e) => {\n",
              "      resolve(e.target.files);\n",
              "    });\n",
              "  });\n",
              "\n",
              "  const cancel = document.createElement('button');\n",
              "  inputElement.parentElement.appendChild(cancel);\n",
              "  cancel.textContent = 'Cancel upload';\n",
              "  const cancelPromise = new Promise((resolve) => {\n",
              "    cancel.onclick = () => {\n",
              "      resolve(null);\n",
              "    };\n",
              "  });\n",
              "\n",
              "  // Wait for the user to pick the files.\n",
              "  const files = yield {\n",
              "    promise: Promise.race([pickedPromise, cancelPromise]),\n",
              "    response: {\n",
              "      action: 'starting',\n",
              "    }\n",
              "  };\n",
              "\n",
              "  cancel.remove();\n",
              "\n",
              "  // Disable the input element since further picks are not allowed.\n",
              "  inputElement.disabled = true;\n",
              "\n",
              "  if (!files) {\n",
              "    return {\n",
              "      response: {\n",
              "        action: 'complete',\n",
              "      }\n",
              "    };\n",
              "  }\n",
              "\n",
              "  for (const file of files) {\n",
              "    const li = document.createElement('li');\n",
              "    li.append(span(file.name, {fontWeight: 'bold'}));\n",
              "    li.append(span(\n",
              "        `(${file.type || 'n/a'}) - ${file.size} bytes, ` +\n",
              "        `last modified: ${\n",
              "            file.lastModifiedDate ? file.lastModifiedDate.toLocaleDateString() :\n",
              "                                    'n/a'} - `));\n",
              "    const percent = span('0% done');\n",
              "    li.appendChild(percent);\n",
              "\n",
              "    outputElement.appendChild(li);\n",
              "\n",
              "    const fileDataPromise = new Promise((resolve) => {\n",
              "      const reader = new FileReader();\n",
              "      reader.onload = (e) => {\n",
              "        resolve(e.target.result);\n",
              "      };\n",
              "      reader.readAsArrayBuffer(file);\n",
              "    });\n",
              "    // Wait for the data to be ready.\n",
              "    let fileData = yield {\n",
              "      promise: fileDataPromise,\n",
              "      response: {\n",
              "        action: 'continue',\n",
              "      }\n",
              "    };\n",
              "\n",
              "    // Use a chunked sending to avoid message size limits. See b/62115660.\n",
              "    let position = 0;\n",
              "    do {\n",
              "      const length = Math.min(fileData.byteLength - position, MAX_PAYLOAD_SIZE);\n",
              "      const chunk = new Uint8Array(fileData, position, length);\n",
              "      position += length;\n",
              "\n",
              "      const base64 = btoa(String.fromCharCode.apply(null, chunk));\n",
              "      yield {\n",
              "        response: {\n",
              "          action: 'append',\n",
              "          file: file.name,\n",
              "          data: base64,\n",
              "        },\n",
              "      };\n",
              "\n",
              "      let percentDone = fileData.byteLength === 0 ?\n",
              "          100 :\n",
              "          Math.round((position / fileData.byteLength) * 100);\n",
              "      percent.textContent = `${percentDone}% done`;\n",
              "\n",
              "    } while (position < fileData.byteLength);\n",
              "  }\n",
              "\n",
              "  // All done.\n",
              "  yield {\n",
              "    response: {\n",
              "      action: 'complete',\n",
              "    }\n",
              "  };\n",
              "}\n",
              "\n",
              "scope.google = scope.google || {};\n",
              "scope.google.colab = scope.google.colab || {};\n",
              "scope.google.colab._files = {\n",
              "  _uploadFiles,\n",
              "  _uploadFilesContinue,\n",
              "};\n",
              "})(self);\n",
              "</script> "
            ]
          },
          "metadata": {}
        },
        {
          "output_type": "stream",
          "name": "stdout",
          "text": [
            "Saving tendances.csv to tendances.csv\n"
          ]
        }
      ]
    },
    {
      "cell_type": "code",
      "execution_count": null,
      "id": "e30bb784-1547-443a-a157-57f9ed91432b",
      "metadata": {
        "colab": {
          "base_uri": "https://localhost:8080/",
          "height": 424
        },
        "id": "e30bb784-1547-443a-a157-57f9ed91432b",
        "outputId": "d0d9485d-e477-4c7d-fce4-f5783952cfe5"
      },
      "outputs": [
        {
          "output_type": "execute_result",
          "data": {
            "text/plain": [
              "            shoes_laceup  body_spaghettistraps  top_tanksleeve_tshirtneck  \\\n",
              "2015-01-05      0.059474              0.001604                   0.002377   \n",
              "2015-01-12      0.071067              0.001621                   0.001561   \n",
              "2015-01-19      0.077554              0.001157                   0.001768   \n",
              "2015-01-26      0.061715              0.001067                   0.002447   \n",
              "2015-02-02      0.060737              0.001118                   0.001854   \n",
              "...                  ...                   ...                        ...   \n",
              "2018-12-03      0.078668              0.001051                   0.000307   \n",
              "2018-12-10      0.074110              0.001052                   0.000000   \n",
              "2018-12-17      0.070240              0.001269                   0.000000   \n",
              "2018-12-24      0.066915              0.001168                   0.000000   \n",
              "2018-12-31      0.068989              0.000885                   0.000102   \n",
              "\n",
              "            pants_denim  eyewear_squaredglassesshape  \n",
              "2015-01-05     0.024241                     0.002614  \n",
              "2015-01-12     0.023861                     0.003187  \n",
              "2015-01-19     0.027625                     0.002160  \n",
              "2015-01-26     0.029950                     0.002032  \n",
              "2015-02-02     0.030590                     0.003329  \n",
              "...                 ...                          ...  \n",
              "2018-12-03     0.035552                     0.000528  \n",
              "2018-12-10     0.034290                     0.000748  \n",
              "2018-12-17     0.034198                     0.000460  \n",
              "2018-12-24     0.034580                     0.000825  \n",
              "2018-12-31     0.031646                     0.000765  \n",
              "\n",
              "[209 rows x 5 columns]"
            ],
            "text/html": [
              "\n",
              "  <div id=\"df-bf643915-b4d9-4296-a5f3-2991e7c4dc83\" class=\"colab-df-container\">\n",
              "    <div>\n",
              "<style scoped>\n",
              "    .dataframe tbody tr th:only-of-type {\n",
              "        vertical-align: middle;\n",
              "    }\n",
              "\n",
              "    .dataframe tbody tr th {\n",
              "        vertical-align: top;\n",
              "    }\n",
              "\n",
              "    .dataframe thead th {\n",
              "        text-align: right;\n",
              "    }\n",
              "</style>\n",
              "<table border=\"1\" class=\"dataframe\">\n",
              "  <thead>\n",
              "    <tr style=\"text-align: right;\">\n",
              "      <th></th>\n",
              "      <th>shoes_laceup</th>\n",
              "      <th>body_spaghettistraps</th>\n",
              "      <th>top_tanksleeve_tshirtneck</th>\n",
              "      <th>pants_denim</th>\n",
              "      <th>eyewear_squaredglassesshape</th>\n",
              "    </tr>\n",
              "  </thead>\n",
              "  <tbody>\n",
              "    <tr>\n",
              "      <th>2015-01-05</th>\n",
              "      <td>0.059474</td>\n",
              "      <td>0.001604</td>\n",
              "      <td>0.002377</td>\n",
              "      <td>0.024241</td>\n",
              "      <td>0.002614</td>\n",
              "    </tr>\n",
              "    <tr>\n",
              "      <th>2015-01-12</th>\n",
              "      <td>0.071067</td>\n",
              "      <td>0.001621</td>\n",
              "      <td>0.001561</td>\n",
              "      <td>0.023861</td>\n",
              "      <td>0.003187</td>\n",
              "    </tr>\n",
              "    <tr>\n",
              "      <th>2015-01-19</th>\n",
              "      <td>0.077554</td>\n",
              "      <td>0.001157</td>\n",
              "      <td>0.001768</td>\n",
              "      <td>0.027625</td>\n",
              "      <td>0.002160</td>\n",
              "    </tr>\n",
              "    <tr>\n",
              "      <th>2015-01-26</th>\n",
              "      <td>0.061715</td>\n",
              "      <td>0.001067</td>\n",
              "      <td>0.002447</td>\n",
              "      <td>0.029950</td>\n",
              "      <td>0.002032</td>\n",
              "    </tr>\n",
              "    <tr>\n",
              "      <th>2015-02-02</th>\n",
              "      <td>0.060737</td>\n",
              "      <td>0.001118</td>\n",
              "      <td>0.001854</td>\n",
              "      <td>0.030590</td>\n",
              "      <td>0.003329</td>\n",
              "    </tr>\n",
              "    <tr>\n",
              "      <th>...</th>\n",
              "      <td>...</td>\n",
              "      <td>...</td>\n",
              "      <td>...</td>\n",
              "      <td>...</td>\n",
              "      <td>...</td>\n",
              "    </tr>\n",
              "    <tr>\n",
              "      <th>2018-12-03</th>\n",
              "      <td>0.078668</td>\n",
              "      <td>0.001051</td>\n",
              "      <td>0.000307</td>\n",
              "      <td>0.035552</td>\n",
              "      <td>0.000528</td>\n",
              "    </tr>\n",
              "    <tr>\n",
              "      <th>2018-12-10</th>\n",
              "      <td>0.074110</td>\n",
              "      <td>0.001052</td>\n",
              "      <td>0.000000</td>\n",
              "      <td>0.034290</td>\n",
              "      <td>0.000748</td>\n",
              "    </tr>\n",
              "    <tr>\n",
              "      <th>2018-12-17</th>\n",
              "      <td>0.070240</td>\n",
              "      <td>0.001269</td>\n",
              "      <td>0.000000</td>\n",
              "      <td>0.034198</td>\n",
              "      <td>0.000460</td>\n",
              "    </tr>\n",
              "    <tr>\n",
              "      <th>2018-12-24</th>\n",
              "      <td>0.066915</td>\n",
              "      <td>0.001168</td>\n",
              "      <td>0.000000</td>\n",
              "      <td>0.034580</td>\n",
              "      <td>0.000825</td>\n",
              "    </tr>\n",
              "    <tr>\n",
              "      <th>2018-12-31</th>\n",
              "      <td>0.068989</td>\n",
              "      <td>0.000885</td>\n",
              "      <td>0.000102</td>\n",
              "      <td>0.031646</td>\n",
              "      <td>0.000765</td>\n",
              "    </tr>\n",
              "  </tbody>\n",
              "</table>\n",
              "<p>209 rows × 5 columns</p>\n",
              "</div>\n",
              "    <div class=\"colab-df-buttons\">\n",
              "\n",
              "  <div class=\"colab-df-container\">\n",
              "    <button class=\"colab-df-convert\" onclick=\"convertToInteractive('df-bf643915-b4d9-4296-a5f3-2991e7c4dc83')\"\n",
              "            title=\"Convert this dataframe to an interactive table.\"\n",
              "            style=\"display:none;\">\n",
              "\n",
              "  <svg xmlns=\"http://www.w3.org/2000/svg\" height=\"24px\" viewBox=\"0 -960 960 960\">\n",
              "    <path d=\"M120-120v-720h720v720H120Zm60-500h600v-160H180v160Zm220 220h160v-160H400v160Zm0 220h160v-160H400v160ZM180-400h160v-160H180v160Zm440 0h160v-160H620v160ZM180-180h160v-160H180v160Zm440 0h160v-160H620v160Z\"/>\n",
              "  </svg>\n",
              "    </button>\n",
              "\n",
              "  <style>\n",
              "    .colab-df-container {\n",
              "      display:flex;\n",
              "      gap: 12px;\n",
              "    }\n",
              "\n",
              "    .colab-df-convert {\n",
              "      background-color: #E8F0FE;\n",
              "      border: none;\n",
              "      border-radius: 50%;\n",
              "      cursor: pointer;\n",
              "      display: none;\n",
              "      fill: #1967D2;\n",
              "      height: 32px;\n",
              "      padding: 0 0 0 0;\n",
              "      width: 32px;\n",
              "    }\n",
              "\n",
              "    .colab-df-convert:hover {\n",
              "      background-color: #E2EBFA;\n",
              "      box-shadow: 0px 1px 2px rgba(60, 64, 67, 0.3), 0px 1px 3px 1px rgba(60, 64, 67, 0.15);\n",
              "      fill: #174EA6;\n",
              "    }\n",
              "\n",
              "    .colab-df-buttons div {\n",
              "      margin-bottom: 4px;\n",
              "    }\n",
              "\n",
              "    [theme=dark] .colab-df-convert {\n",
              "      background-color: #3B4455;\n",
              "      fill: #D2E3FC;\n",
              "    }\n",
              "\n",
              "    [theme=dark] .colab-df-convert:hover {\n",
              "      background-color: #434B5C;\n",
              "      box-shadow: 0px 1px 3px 1px rgba(0, 0, 0, 0.15);\n",
              "      filter: drop-shadow(0px 1px 2px rgba(0, 0, 0, 0.3));\n",
              "      fill: #FFFFFF;\n",
              "    }\n",
              "  </style>\n",
              "\n",
              "    <script>\n",
              "      const buttonEl =\n",
              "        document.querySelector('#df-bf643915-b4d9-4296-a5f3-2991e7c4dc83 button.colab-df-convert');\n",
              "      buttonEl.style.display =\n",
              "        google.colab.kernel.accessAllowed ? 'block' : 'none';\n",
              "\n",
              "      async function convertToInteractive(key) {\n",
              "        const element = document.querySelector('#df-bf643915-b4d9-4296-a5f3-2991e7c4dc83');\n",
              "        const dataTable =\n",
              "          await google.colab.kernel.invokeFunction('convertToInteractive',\n",
              "                                                    [key], {});\n",
              "        if (!dataTable) return;\n",
              "\n",
              "        const docLinkHtml = 'Like what you see? Visit the ' +\n",
              "          '<a target=\"_blank\" href=https://colab.research.google.com/notebooks/data_table.ipynb>data table notebook</a>'\n",
              "          + ' to learn more about interactive tables.';\n",
              "        element.innerHTML = '';\n",
              "        dataTable['output_type'] = 'display_data';\n",
              "        await google.colab.output.renderOutput(dataTable, element);\n",
              "        const docLink = document.createElement('div');\n",
              "        docLink.innerHTML = docLinkHtml;\n",
              "        element.appendChild(docLink);\n",
              "      }\n",
              "    </script>\n",
              "  </div>\n",
              "\n",
              "\n",
              "    <div id=\"df-e3665eeb-4bde-4ee8-adef-fb0162ea6aac\">\n",
              "      <button class=\"colab-df-quickchart\" onclick=\"quickchart('df-e3665eeb-4bde-4ee8-adef-fb0162ea6aac')\"\n",
              "                title=\"Suggest charts\"\n",
              "                style=\"display:none;\">\n",
              "\n",
              "<svg xmlns=\"http://www.w3.org/2000/svg\" height=\"24px\"viewBox=\"0 0 24 24\"\n",
              "     width=\"24px\">\n",
              "    <g>\n",
              "        <path d=\"M19 3H5c-1.1 0-2 .9-2 2v14c0 1.1.9 2 2 2h14c1.1 0 2-.9 2-2V5c0-1.1-.9-2-2-2zM9 17H7v-7h2v7zm4 0h-2V7h2v10zm4 0h-2v-4h2v4z\"/>\n",
              "    </g>\n",
              "</svg>\n",
              "      </button>\n",
              "\n",
              "<style>\n",
              "  .colab-df-quickchart {\n",
              "      --bg-color: #E8F0FE;\n",
              "      --fill-color: #1967D2;\n",
              "      --hover-bg-color: #E2EBFA;\n",
              "      --hover-fill-color: #174EA6;\n",
              "      --disabled-fill-color: #AAA;\n",
              "      --disabled-bg-color: #DDD;\n",
              "  }\n",
              "\n",
              "  [theme=dark] .colab-df-quickchart {\n",
              "      --bg-color: #3B4455;\n",
              "      --fill-color: #D2E3FC;\n",
              "      --hover-bg-color: #434B5C;\n",
              "      --hover-fill-color: #FFFFFF;\n",
              "      --disabled-bg-color: #3B4455;\n",
              "      --disabled-fill-color: #666;\n",
              "  }\n",
              "\n",
              "  .colab-df-quickchart {\n",
              "    background-color: var(--bg-color);\n",
              "    border: none;\n",
              "    border-radius: 50%;\n",
              "    cursor: pointer;\n",
              "    display: none;\n",
              "    fill: var(--fill-color);\n",
              "    height: 32px;\n",
              "    padding: 0;\n",
              "    width: 32px;\n",
              "  }\n",
              "\n",
              "  .colab-df-quickchart:hover {\n",
              "    background-color: var(--hover-bg-color);\n",
              "    box-shadow: 0 1px 2px rgba(60, 64, 67, 0.3), 0 1px 3px 1px rgba(60, 64, 67, 0.15);\n",
              "    fill: var(--button-hover-fill-color);\n",
              "  }\n",
              "\n",
              "  .colab-df-quickchart-complete:disabled,\n",
              "  .colab-df-quickchart-complete:disabled:hover {\n",
              "    background-color: var(--disabled-bg-color);\n",
              "    fill: var(--disabled-fill-color);\n",
              "    box-shadow: none;\n",
              "  }\n",
              "\n",
              "  .colab-df-spinner {\n",
              "    border: 2px solid var(--fill-color);\n",
              "    border-color: transparent;\n",
              "    border-bottom-color: var(--fill-color);\n",
              "    animation:\n",
              "      spin 1s steps(1) infinite;\n",
              "  }\n",
              "\n",
              "  @keyframes spin {\n",
              "    0% {\n",
              "      border-color: transparent;\n",
              "      border-bottom-color: var(--fill-color);\n",
              "      border-left-color: var(--fill-color);\n",
              "    }\n",
              "    20% {\n",
              "      border-color: transparent;\n",
              "      border-left-color: var(--fill-color);\n",
              "      border-top-color: var(--fill-color);\n",
              "    }\n",
              "    30% {\n",
              "      border-color: transparent;\n",
              "      border-left-color: var(--fill-color);\n",
              "      border-top-color: var(--fill-color);\n",
              "      border-right-color: var(--fill-color);\n",
              "    }\n",
              "    40% {\n",
              "      border-color: transparent;\n",
              "      border-right-color: var(--fill-color);\n",
              "      border-top-color: var(--fill-color);\n",
              "    }\n",
              "    60% {\n",
              "      border-color: transparent;\n",
              "      border-right-color: var(--fill-color);\n",
              "    }\n",
              "    80% {\n",
              "      border-color: transparent;\n",
              "      border-right-color: var(--fill-color);\n",
              "      border-bottom-color: var(--fill-color);\n",
              "    }\n",
              "    90% {\n",
              "      border-color: transparent;\n",
              "      border-bottom-color: var(--fill-color);\n",
              "    }\n",
              "  }\n",
              "</style>\n",
              "\n",
              "      <script>\n",
              "        async function quickchart(key) {\n",
              "          const quickchartButtonEl =\n",
              "            document.querySelector('#' + key + ' button');\n",
              "          quickchartButtonEl.disabled = true;  // To prevent multiple clicks.\n",
              "          quickchartButtonEl.classList.add('colab-df-spinner');\n",
              "          try {\n",
              "            const charts = await google.colab.kernel.invokeFunction(\n",
              "                'suggestCharts', [key], {});\n",
              "          } catch (error) {\n",
              "            console.error('Error during call to suggestCharts:', error);\n",
              "          }\n",
              "          quickchartButtonEl.classList.remove('colab-df-spinner');\n",
              "          quickchartButtonEl.classList.add('colab-df-quickchart-complete');\n",
              "        }\n",
              "        (() => {\n",
              "          let quickchartButtonEl =\n",
              "            document.querySelector('#df-e3665eeb-4bde-4ee8-adef-fb0162ea6aac button');\n",
              "          quickchartButtonEl.style.display =\n",
              "            google.colab.kernel.accessAllowed ? 'block' : 'none';\n",
              "        })();\n",
              "      </script>\n",
              "    </div>\n",
              "\n",
              "  <div id=\"id_57e0453a-24d9-45f8-b16b-df74c3b0538b\">\n",
              "    <style>\n",
              "      .colab-df-generate {\n",
              "        background-color: #E8F0FE;\n",
              "        border: none;\n",
              "        border-radius: 50%;\n",
              "        cursor: pointer;\n",
              "        display: none;\n",
              "        fill: #1967D2;\n",
              "        height: 32px;\n",
              "        padding: 0 0 0 0;\n",
              "        width: 32px;\n",
              "      }\n",
              "\n",
              "      .colab-df-generate:hover {\n",
              "        background-color: #E2EBFA;\n",
              "        box-shadow: 0px 1px 2px rgba(60, 64, 67, 0.3), 0px 1px 3px 1px rgba(60, 64, 67, 0.15);\n",
              "        fill: #174EA6;\n",
              "      }\n",
              "\n",
              "      [theme=dark] .colab-df-generate {\n",
              "        background-color: #3B4455;\n",
              "        fill: #D2E3FC;\n",
              "      }\n",
              "\n",
              "      [theme=dark] .colab-df-generate:hover {\n",
              "        background-color: #434B5C;\n",
              "        box-shadow: 0px 1px 3px 1px rgba(0, 0, 0, 0.15);\n",
              "        filter: drop-shadow(0px 1px 2px rgba(0, 0, 0, 0.3));\n",
              "        fill: #FFFFFF;\n",
              "      }\n",
              "    </style>\n",
              "    <button class=\"colab-df-generate\" onclick=\"generateWithVariable('df')\"\n",
              "            title=\"Generate code using this dataframe.\"\n",
              "            style=\"display:none;\">\n",
              "\n",
              "  <svg xmlns=\"http://www.w3.org/2000/svg\" height=\"24px\"viewBox=\"0 0 24 24\"\n",
              "       width=\"24px\">\n",
              "    <path d=\"M7,19H8.4L18.45,9,17,7.55,7,17.6ZM5,21V16.75L18.45,3.32a2,2,0,0,1,2.83,0l1.4,1.43a1.91,1.91,0,0,1,.58,1.4,1.91,1.91,0,0,1-.58,1.4L9.25,21ZM18.45,9,17,7.55Zm-12,3A5.31,5.31,0,0,0,4.9,8.1,5.31,5.31,0,0,0,1,6.5,5.31,5.31,0,0,0,4.9,4.9,5.31,5.31,0,0,0,6.5,1,5.31,5.31,0,0,0,8.1,4.9,5.31,5.31,0,0,0,12,6.5,5.46,5.46,0,0,0,6.5,12Z\"/>\n",
              "  </svg>\n",
              "    </button>\n",
              "    <script>\n",
              "      (() => {\n",
              "      const buttonEl =\n",
              "        document.querySelector('#id_57e0453a-24d9-45f8-b16b-df74c3b0538b button.colab-df-generate');\n",
              "      buttonEl.style.display =\n",
              "        google.colab.kernel.accessAllowed ? 'block' : 'none';\n",
              "\n",
              "      buttonEl.onclick = () => {\n",
              "        google.colab.notebook.generateWithVariable('df');\n",
              "      }\n",
              "      })();\n",
              "    </script>\n",
              "  </div>\n",
              "\n",
              "    </div>\n",
              "  </div>\n"
            ],
            "application/vnd.google.colaboratory.intrinsic+json": {
              "type": "dataframe",
              "variable_name": "df",
              "summary": "{\n  \"name\": \"df\",\n  \"rows\": 209,\n  \"fields\": [\n    {\n      \"column\": \"shoes_laceup\",\n      \"properties\": {\n        \"dtype\": \"number\",\n        \"std\": 0.010097231898946558,\n        \"min\": 0.0461078002018054,\n        \"max\": 0.0970431844992516,\n        \"num_unique_values\": 209,\n        \"samples\": [\n          0.0521979421168048,\n          0.0896089112613032,\n          0.0576829529609584\n        ],\n        \"semantic_type\": \"\",\n        \"description\": \"\"\n      }\n    },\n    {\n      \"column\": \"body_spaghettistraps\",\n      \"properties\": {\n        \"dtype\": \"number\",\n        \"std\": 0.0010758851647591798,\n        \"min\": 0.0004382579455623,\n        \"max\": 0.0062464762664193,\n        \"num_unique_values\": 209,\n        \"samples\": [\n          0.0021492680657173,\n          0.0018792560657082,\n          0.0033058877414156\n        ],\n        \"semantic_type\": \"\",\n        \"description\": \"\"\n      }\n    },\n    {\n      \"column\": \"top_tanksleeve_tshirtneck\",\n      \"properties\": {\n        \"dtype\": \"number\",\n        \"std\": 0.0011822229601369824,\n        \"min\": 0.0,\n        \"max\": 0.0054458466238861,\n        \"num_unique_values\": 207,\n        \"samples\": [\n          0.0004353400557386,\n          0.0024616323535892,\n          0.003166857327545\n        ],\n        \"semantic_type\": \"\",\n        \"description\": \"\"\n      }\n    },\n    {\n      \"column\": \"pants_denim\",\n      \"properties\": {\n        \"dtype\": \"number\",\n        \"std\": 0.006671796056648132,\n        \"min\": 0.0167406692040414,\n        \"max\": 0.0497318373759348,\n        \"num_unique_values\": 209,\n        \"samples\": [\n          0.0195651815288548,\n          0.0435971372637202,\n          0.0221355017257083\n        ],\n        \"semantic_type\": \"\",\n        \"description\": \"\"\n      }\n    },\n    {\n      \"column\": \"eyewear_squaredglassesshape\",\n      \"properties\": {\n        \"dtype\": \"number\",\n        \"std\": 0.0007082599279437865,\n        \"min\": 0.0004596296195253,\n        \"max\": 0.0048579478685786,\n        \"num_unique_values\": 209,\n        \"samples\": [\n          0.002905431081985,\n          0.0013289853423829,\n          0.0024262173646744\n        ],\n        \"semantic_type\": \"\",\n        \"description\": \"\"\n      }\n    }\n  ]\n}"
            }
          },
          "metadata": {},
          "execution_count": 8
        }
      ],
      "source": [
        "import pandas as pd\n",
        "df = pd.read_csv('tendances.csv', index_col=0)\n",
        "df # on a weekly basis"
      ]
    },
    {
      "cell_type": "markdown",
      "id": "c8e50f16-a48c-47d6-94fa-47deb5798839",
      "metadata": {
        "id": "c8e50f16-a48c-47d6-94fa-47deb5798839"
      },
      "source": [
        "b) Plot all the series on the same chart with `plotly.express`"
      ]
    },
    {
      "cell_type": "code",
      "execution_count": null,
      "id": "0f2453d3-da6f-4725-8714-b71914321ce4",
      "metadata": {
        "colab": {
          "base_uri": "https://localhost:8080/",
          "height": 542
        },
        "id": "0f2453d3-da6f-4725-8714-b71914321ce4",
        "outputId": "93b6c7a8-2b7e-4f4c-85c6-ff4f54d90b8f"
      },
      "outputs": [
        {
          "output_type": "display_data",
          "data": {
            "text/html": [
              "<html>\n",
              "<head><meta charset=\"utf-8\" /></head>\n",
              "<body>\n",
              "    <div>            <script src=\"https://cdnjs.cloudflare.com/ajax/libs/mathjax/2.7.5/MathJax.js?config=TeX-AMS-MML_SVG\"></script><script type=\"text/javascript\">if (window.MathJax && window.MathJax.Hub && window.MathJax.Hub.Config) {window.MathJax.Hub.Config({SVG: {font: \"STIX-Web\"}});}</script>                <script type=\"text/javascript\">window.PlotlyConfig = {MathJaxConfig: 'local'};</script>\n",
              "        <script charset=\"utf-8\" src=\"https://cdn.plot.ly/plotly-2.35.2.min.js\"></script>                <div id=\"71602e8a-88b5-45c4-a741-dc2f43b47044\" class=\"plotly-graph-div\" style=\"height:525px; width:100%;\"></div>            <script type=\"text/javascript\">                                    window.PLOTLYENV=window.PLOTLYENV || {};                                    if (document.getElementById(\"71602e8a-88b5-45c4-a741-dc2f43b47044\")) {                    Plotly.newPlot(                        \"71602e8a-88b5-45c4-a741-dc2f43b47044\",                        [{\"hovertemplate\":\"variable=shoes_laceup\\u003cbr\\u003eindex=%{x}\\u003cbr\\u003evalue=%{y}\\u003cextra\\u003e\\u003c\\u002fextra\\u003e\",\"legendgroup\":\"shoes_laceup\",\"line\":{\"color\":\"#636efa\",\"dash\":\"solid\"},\"marker\":{\"symbol\":\"circle\"},\"mode\":\"lines\",\"name\":\"shoes_laceup\",\"showlegend\":true,\"x\":[\"2015-01-05\",\"2015-01-12\",\"2015-01-19\",\"2015-01-26\",\"2015-02-02\",\"2015-02-09\",\"2015-02-16\",\"2015-02-23\",\"2015-03-02\",\"2015-03-09\",\"2015-03-16\",\"2015-03-23\",\"2015-03-30\",\"2015-04-06\",\"2015-04-13\",\"2015-04-20\",\"2015-04-27\",\"2015-05-04\",\"2015-05-11\",\"2015-05-18\",\"2015-05-25\",\"2015-06-01\",\"2015-06-08\",\"2015-06-15\",\"2015-06-22\",\"2015-06-29\",\"2015-07-06\",\"2015-07-13\",\"2015-07-20\",\"2015-07-27\",\"2015-08-03\",\"2015-08-10\",\"2015-08-17\",\"2015-08-24\",\"2015-08-31\",\"2015-09-07\",\"2015-09-14\",\"2015-09-21\",\"2015-09-28\",\"2015-10-05\",\"2015-10-12\",\"2015-10-19\",\"2015-10-26\",\"2015-11-02\",\"2015-11-09\",\"2015-11-16\",\"2015-11-23\",\"2015-11-30\",\"2015-12-07\",\"2015-12-14\",\"2015-12-21\",\"2015-12-28\",\"2016-01-04\",\"2016-01-11\",\"2016-01-18\",\"2016-01-25\",\"2016-02-01\",\"2016-02-08\",\"2016-02-15\",\"2016-02-22\",\"2016-02-29\",\"2016-03-07\",\"2016-03-14\",\"2016-03-21\",\"2016-03-28\",\"2016-04-04\",\"2016-04-11\",\"2016-04-18\",\"2016-04-25\",\"2016-05-02\",\"2016-05-09\",\"2016-05-16\",\"2016-05-23\",\"2016-05-30\",\"2016-06-06\",\"2016-06-13\",\"2016-06-20\",\"2016-06-27\",\"2016-07-04\",\"2016-07-11\",\"2016-07-18\",\"2016-07-25\",\"2016-08-01\",\"2016-08-08\",\"2016-08-15\",\"2016-08-22\",\"2016-08-29\",\"2016-09-05\",\"2016-09-12\",\"2016-09-19\",\"2016-09-26\",\"2016-10-03\",\"2016-10-10\",\"2016-10-17\",\"2016-10-24\",\"2016-10-31\",\"2016-11-07\",\"2016-11-14\",\"2016-11-21\",\"2016-11-28\",\"2016-12-05\",\"2016-12-12\",\"2016-12-19\",\"2016-12-26\",\"2017-01-02\",\"2017-01-09\",\"2017-01-16\",\"2017-01-23\",\"2017-01-30\",\"2017-02-06\",\"2017-02-13\",\"2017-02-20\",\"2017-02-27\",\"2017-03-06\",\"2017-03-13\",\"2017-03-20\",\"2017-03-27\",\"2017-04-03\",\"2017-04-10\",\"2017-04-17\",\"2017-04-24\",\"2017-05-01\",\"2017-05-08\",\"2017-05-15\",\"2017-05-22\",\"2017-05-29\",\"2017-06-05\",\"2017-06-12\",\"2017-06-19\",\"2017-06-26\",\"2017-07-03\",\"2017-07-10\",\"2017-07-17\",\"2017-07-24\",\"2017-07-31\",\"2017-08-07\",\"2017-08-14\",\"2017-08-21\",\"2017-08-28\",\"2017-09-04\",\"2017-09-11\",\"2017-09-18\",\"2017-09-25\",\"2017-10-02\",\"2017-10-09\",\"2017-10-16\",\"2017-10-23\",\"2017-10-30\",\"2017-11-06\",\"2017-11-13\",\"2017-11-20\",\"2017-11-27\",\"2017-12-04\",\"2017-12-11\",\"2017-12-18\",\"2017-12-25\",\"2018-01-01\",\"2018-01-08\",\"2018-01-15\",\"2018-01-22\",\"2018-01-29\",\"2018-02-05\",\"2018-02-12\",\"2018-02-19\",\"2018-02-26\",\"2018-03-05\",\"2018-03-12\",\"2018-03-19\",\"2018-03-26\",\"2018-04-02\",\"2018-04-09\",\"2018-04-16\",\"2018-04-23\",\"2018-04-30\",\"2018-05-07\",\"2018-05-14\",\"2018-05-21\",\"2018-05-28\",\"2018-06-04\",\"2018-06-11\",\"2018-06-18\",\"2018-06-25\",\"2018-07-02\",\"2018-07-09\",\"2018-07-16\",\"2018-07-23\",\"2018-07-30\",\"2018-08-06\",\"2018-08-13\",\"2018-08-20\",\"2018-08-27\",\"2018-09-03\",\"2018-09-10\",\"2018-09-17\",\"2018-09-24\",\"2018-10-01\",\"2018-10-08\",\"2018-10-15\",\"2018-10-22\",\"2018-10-29\",\"2018-11-05\",\"2018-11-12\",\"2018-11-19\",\"2018-11-26\",\"2018-12-03\",\"2018-12-10\",\"2018-12-17\",\"2018-12-24\",\"2018-12-31\"],\"xaxis\":\"x\",\"y\":[0.0594735903986691,0.0710674956435239,0.0775536426182395,0.0617146999429548,0.0607365065708175,0.0563434368683226,0.0542297705097069,0.0527687486734381,0.0601710643275872,0.0678118962999228,0.066064667892083,0.0742202574590494,0.0747279879309642,0.0699588843355649,0.0691346456880854,0.0709087107215175,0.0710017722055114,0.0634840563491351,0.0640323657392299,0.0685320754449926,0.0661093037370074,0.0620895561417417,0.0682083669679072,0.0694374254969427,0.0697156798609526,0.0564816084831986,0.054887264796493,0.0603813319885976,0.0581435838468453,0.0553692325563301,0.0521979421168048,0.0562765902282233,0.0582409502889114,0.065330392457665,0.0732899131772774,0.0668233246534076,0.0716576078945763,0.0691139683464551,0.0742979734029406,0.0738623338129495,0.0726061686610427,0.0732757569749392,0.0696029226462126,0.0650910718404213,0.0645028688794748,0.0641892789062357,0.0613337508568382,0.0594056852092567,0.0567830096003872,0.0561985897365438,0.0557644578133427,0.0461078002018054,0.0728951564348695,0.0735899024911183,0.076126280125448,0.0623513214674176,0.0643009273624269,0.0600468999264754,0.0660140184395375,0.0677696262350709,0.0736018770702612,0.0762141100762468,0.0743131267439558,0.0774583428663707,0.0799679405341568,0.0836551124102379,0.079032591822644,0.0752821212622692,0.0797984073963475,0.0764686543897383,0.074877243125838,0.0735298053387402,0.0732910695950401,0.0709593455985916,0.0778516131041125,0.0707848628428269,0.0729392315570003,0.0641583834133504,0.0598285133807781,0.0641120542211198,0.0573584090320788,0.0552802110444421,0.0582980259392958,0.0595576283200654,0.0576829529609584,0.0599876960149351,0.0664323645769023,0.0681553231731132,0.0732619073593581,0.0697743715082966,0.074438334279277,0.0735013177303639,0.0734017525741153,0.0779753831339962,0.0657745702931035,0.0708467230025425,0.0598342043469452,0.0656343318092335,0.0613652623197463,0.0596243043031971,0.0619090592975516,0.0552254377239672,0.0527470905271412,0.0483996396340642,0.0639153240627925,0.0699382286122499,0.0649278192225612,0.0575579316783105,0.0642546799220696,0.0640519634243731,0.0678308620940902,0.0642287805794459,0.0730977141448059,0.0720499317881116,0.0780248149330209,0.0817377690897284,0.0855496282593855,0.08056015205264,0.0847515127360386,0.0791157061168797,0.0846524702206576,0.0844280953038008,0.082618973069944,0.0791963489795993,0.0754795609566842,0.071740543499906,0.0778410633469632,0.0728036269027027,0.0673242395931748,0.0748846381110026,0.0617287207759187,0.0691421770627809,0.0641219827168876,0.0691977206261397,0.0613415247379757,0.0627385507786085,0.0636269741598244,0.0635359870936154,0.0697227730325516,0.0774578179017064,0.0828002192953922,0.0758631088045621,0.0786285823749593,0.0731171753957927,0.0798634396881449,0.0821695673956934,0.0778551550843283,0.0750938530279026,0.0726506187372227,0.0712316248697906,0.0702793900027805,0.0668698095991729,0.0631038301847773,0.0602206430958528,0.0603918298053714,0.0578632688927045,0.0650050997832181,0.0780380385663186,0.0796508486105139,0.0749008004399882,0.075817997091855,0.0750283925201835,0.0728587948486152,0.072339360410771,0.0775065189489557,0.0820890720045646,0.0828774104435395,0.080135996731353,0.0831985488007131,0.0970423316307069,0.096700692189269,0.0896089112613032,0.0820405939188595,0.0925788829747074,0.0866569278419033,0.0818040022317165,0.0830290466647637,0.0799451203161246,0.0828559815842818,0.0842819932637636,0.087485464806614,0.0747766001193207,0.0680525654139275,0.0692631962107351,0.071609037706496,0.066833585940104,0.069765369408925,0.0721371804438403,0.0703939284849961,0.0751489090214015,0.0796310147510262,0.087667449406906,0.0964053873088388,0.0855664565015538,0.0942855814615398,0.0970431844992516,0.0945958272887635,0.0945886615682339,0.0938358916116843,0.0858138512202411,0.0843889127826842,0.0843875339164182,0.0776044205240964,0.0781905232646272,0.0786684475404581,0.0741096347115736,0.0702397175010446,0.0669153762721061,0.0689890168668805],\"yaxis\":\"y\",\"type\":\"scattergl\"},{\"hovertemplate\":\"variable=body_spaghettistraps\\u003cbr\\u003eindex=%{x}\\u003cbr\\u003evalue=%{y}\\u003cextra\\u003e\\u003c\\u002fextra\\u003e\",\"legendgroup\":\"body_spaghettistraps\",\"line\":{\"color\":\"#EF553B\",\"dash\":\"solid\"},\"marker\":{\"symbol\":\"circle\"},\"mode\":\"lines\",\"name\":\"body_spaghettistraps\",\"showlegend\":true,\"x\":[\"2015-01-05\",\"2015-01-12\",\"2015-01-19\",\"2015-01-26\",\"2015-02-02\",\"2015-02-09\",\"2015-02-16\",\"2015-02-23\",\"2015-03-02\",\"2015-03-09\",\"2015-03-16\",\"2015-03-23\",\"2015-03-30\",\"2015-04-06\",\"2015-04-13\",\"2015-04-20\",\"2015-04-27\",\"2015-05-04\",\"2015-05-11\",\"2015-05-18\",\"2015-05-25\",\"2015-06-01\",\"2015-06-08\",\"2015-06-15\",\"2015-06-22\",\"2015-06-29\",\"2015-07-06\",\"2015-07-13\",\"2015-07-20\",\"2015-07-27\",\"2015-08-03\",\"2015-08-10\",\"2015-08-17\",\"2015-08-24\",\"2015-08-31\",\"2015-09-07\",\"2015-09-14\",\"2015-09-21\",\"2015-09-28\",\"2015-10-05\",\"2015-10-12\",\"2015-10-19\",\"2015-10-26\",\"2015-11-02\",\"2015-11-09\",\"2015-11-16\",\"2015-11-23\",\"2015-11-30\",\"2015-12-07\",\"2015-12-14\",\"2015-12-21\",\"2015-12-28\",\"2016-01-04\",\"2016-01-11\",\"2016-01-18\",\"2016-01-25\",\"2016-02-01\",\"2016-02-08\",\"2016-02-15\",\"2016-02-22\",\"2016-02-29\",\"2016-03-07\",\"2016-03-14\",\"2016-03-21\",\"2016-03-28\",\"2016-04-04\",\"2016-04-11\",\"2016-04-18\",\"2016-04-25\",\"2016-05-02\",\"2016-05-09\",\"2016-05-16\",\"2016-05-23\",\"2016-05-30\",\"2016-06-06\",\"2016-06-13\",\"2016-06-20\",\"2016-06-27\",\"2016-07-04\",\"2016-07-11\",\"2016-07-18\",\"2016-07-25\",\"2016-08-01\",\"2016-08-08\",\"2016-08-15\",\"2016-08-22\",\"2016-08-29\",\"2016-09-05\",\"2016-09-12\",\"2016-09-19\",\"2016-09-26\",\"2016-10-03\",\"2016-10-10\",\"2016-10-17\",\"2016-10-24\",\"2016-10-31\",\"2016-11-07\",\"2016-11-14\",\"2016-11-21\",\"2016-11-28\",\"2016-12-05\",\"2016-12-12\",\"2016-12-19\",\"2016-12-26\",\"2017-01-02\",\"2017-01-09\",\"2017-01-16\",\"2017-01-23\",\"2017-01-30\",\"2017-02-06\",\"2017-02-13\",\"2017-02-20\",\"2017-02-27\",\"2017-03-06\",\"2017-03-13\",\"2017-03-20\",\"2017-03-27\",\"2017-04-03\",\"2017-04-10\",\"2017-04-17\",\"2017-04-24\",\"2017-05-01\",\"2017-05-08\",\"2017-05-15\",\"2017-05-22\",\"2017-05-29\",\"2017-06-05\",\"2017-06-12\",\"2017-06-19\",\"2017-06-26\",\"2017-07-03\",\"2017-07-10\",\"2017-07-17\",\"2017-07-24\",\"2017-07-31\",\"2017-08-07\",\"2017-08-14\",\"2017-08-21\",\"2017-08-28\",\"2017-09-04\",\"2017-09-11\",\"2017-09-18\",\"2017-09-25\",\"2017-10-02\",\"2017-10-09\",\"2017-10-16\",\"2017-10-23\",\"2017-10-30\",\"2017-11-06\",\"2017-11-13\",\"2017-11-20\",\"2017-11-27\",\"2017-12-04\",\"2017-12-11\",\"2017-12-18\",\"2017-12-25\",\"2018-01-01\",\"2018-01-08\",\"2018-01-15\",\"2018-01-22\",\"2018-01-29\",\"2018-02-05\",\"2018-02-12\",\"2018-02-19\",\"2018-02-26\",\"2018-03-05\",\"2018-03-12\",\"2018-03-19\",\"2018-03-26\",\"2018-04-02\",\"2018-04-09\",\"2018-04-16\",\"2018-04-23\",\"2018-04-30\",\"2018-05-07\",\"2018-05-14\",\"2018-05-21\",\"2018-05-28\",\"2018-06-04\",\"2018-06-11\",\"2018-06-18\",\"2018-06-25\",\"2018-07-02\",\"2018-07-09\",\"2018-07-16\",\"2018-07-23\",\"2018-07-30\",\"2018-08-06\",\"2018-08-13\",\"2018-08-20\",\"2018-08-27\",\"2018-09-03\",\"2018-09-10\",\"2018-09-17\",\"2018-09-24\",\"2018-10-01\",\"2018-10-08\",\"2018-10-15\",\"2018-10-22\",\"2018-10-29\",\"2018-11-05\",\"2018-11-12\",\"2018-11-19\",\"2018-11-26\",\"2018-12-03\",\"2018-12-10\",\"2018-12-17\",\"2018-12-24\",\"2018-12-31\"],\"xaxis\":\"x\",\"y\":[0.001604182758006,0.00162088303566,0.0011571121964018,0.0010668832299602,0.0011178595946467,0.0018059323023811,0.0014460552095434,0.0011083588617158,0.0007758952448766,0.0013276610527229,0.0017847521665747,0.0009641951227476,0.0007267072269579,0.0010092373302393,0.0009094301544444,0.0016579370434889,0.0009956394832606,0.001296686345157,0.0013257619042939,0.0020146021904014,0.0018058847532572,0.0014507552989426,0.0012369374303309,0.0019449269881925,0.0017319604082799,0.0019888006289191,0.0026512546621528,0.0027073535618825,0.0023320137555894,0.0029831380168574,0.0021492680657173,0.0028770643104785,0.0023699404999808,0.002430999763043,0.0016089402798564,0.0024290586584987,0.0015751100804315,0.0011635637083961,0.0007210519207049,0.001620935068493,0.0011888577105785,0.000967887686402,0.0008072725980978,0.0012900011855754,0.0008271745034207,0.0006917945066279,0.0010865641346203,0.0015411366292006,0.0020405943161508,0.0016672701192839,0.0005483699019716,0.0006551100301665,0.0012745424689153,0.0009901149418486,0.0012196838422505,0.0016442340791389,0.0020012523875699,0.0014585189414805,0.000927890502456,0.0013499673702128,0.0007061701355011,0.0010391140983032,0.001002156152537,0.0015410612768699,0.0008827286089244,0.001652398191911,0.0011862984505847,0.0018062971221788,0.00120328462201,0.0010360177693723,0.0013949927443442,0.0016527556484929,0.0020215432356233,0.0016922937467056,0.0017716769309036,0.0018896032730782,0.0019078739038399,0.0020903269421524,0.0023021411141668,0.0028573022132223,0.0034367313057546,0.0032200552024572,0.0032007821486308,0.003463009823751,0.0033058877414156,0.0038406325343689,0.0025429223188027,0.0022907279445878,0.0012916361040335,0.0014273855798741,0.0012857575423493,0.0010451672418537,0.0008781782640725,0.0012932807110522,0.0018690732748853,0.0012430075143117,0.0006459864592318,0.0007726314944991,0.0019776859594598,0.0010461795699697,0.0012131382946426,0.0015630049625354,0.0005980735499422,0.0004382579455623,0.0013390200371736,0.0013300996975557,0.0014213761699586,0.0013825573272136,0.0018791579533583,0.0009724786967198,0.0016818797398834,0.0012346844376614,0.0009011755507563,0.0015576251042636,0.0012179083655932,0.0020715293378095,0.0010552593960748,0.0015043094429299,0.0014099473794357,0.0017696953786471,0.0019200648514046,0.0013356400918597,0.0015266108534782,0.0018013931052193,0.0022546269968077,0.0014479012180679,0.0021951149428405,0.0022193827123909,0.0027044297069156,0.0029253982451126,0.0028658134519865,0.0029753167488782,0.0033635667041488,0.0033939716437619,0.0040273647780275,0.0047499012238074,0.004551221389685,0.0041092828583349,0.0032141388045436,0.0024228646826147,0.0013621698949193,0.0009293202271091,0.0010782208563093,0.0012795560856383,0.0004764082764952,0.0013773643482789,0.0014632327924233,0.0008783145275272,0.0009974153374968,0.000888810303647,0.0012232128016468,0.0007956395155836,0.0013632577876467,0.0012122535762627,0.0010105697663692,0.001031882511671,0.0011848551640818,0.0014080477894881,0.0011172824407243,0.0012210728209545,0.0015678460890699,0.0016659562917203,0.0012587439801,0.0018169271231526,0.0010544316994239,0.00082313636981,0.00134745076757,0.0020196633019484,0.0015227724129035,0.0016042849421478,0.0017985151477483,0.0018792560657082,0.0013854523389788,0.0019467497343945,0.0020986068776106,0.0021409440727161,0.0019143099344628,0.0028838389111666,0.0027359991927478,0.002466296603177,0.0027962899075697,0.0049491273118632,0.0039897638171313,0.0042991472771088,0.0051201603926037,0.0056005844464619,0.005189239122515,0.0062464762664193,0.005611288418199,0.005665272830705,0.0042724395463547,0.0035311763603307,0.0027911727168547,0.0020670696350708,0.0016539835825071,0.0012351822848231,0.0011722676308907,0.0018581458002653,0.0009583192061253,0.0009390787477867,0.0014940804593232,0.0015652466309016,0.0013096123340896,0.0016562949835865,0.0010514815029349,0.0010523690145674,0.001269459636756,0.0011683813912933,0.0008854947011507],\"yaxis\":\"y\",\"type\":\"scattergl\"},{\"hovertemplate\":\"variable=top_tanksleeve_tshirtneck\\u003cbr\\u003eindex=%{x}\\u003cbr\\u003evalue=%{y}\\u003cextra\\u003e\\u003c\\u002fextra\\u003e\",\"legendgroup\":\"top_tanksleeve_tshirtneck\",\"line\":{\"color\":\"#00cc96\",\"dash\":\"solid\"},\"marker\":{\"symbol\":\"circle\"},\"mode\":\"lines\",\"name\":\"top_tanksleeve_tshirtneck\",\"showlegend\":true,\"x\":[\"2015-01-05\",\"2015-01-12\",\"2015-01-19\",\"2015-01-26\",\"2015-02-02\",\"2015-02-09\",\"2015-02-16\",\"2015-02-23\",\"2015-03-02\",\"2015-03-09\",\"2015-03-16\",\"2015-03-23\",\"2015-03-30\",\"2015-04-06\",\"2015-04-13\",\"2015-04-20\",\"2015-04-27\",\"2015-05-04\",\"2015-05-11\",\"2015-05-18\",\"2015-05-25\",\"2015-06-01\",\"2015-06-08\",\"2015-06-15\",\"2015-06-22\",\"2015-06-29\",\"2015-07-06\",\"2015-07-13\",\"2015-07-20\",\"2015-07-27\",\"2015-08-03\",\"2015-08-10\",\"2015-08-17\",\"2015-08-24\",\"2015-08-31\",\"2015-09-07\",\"2015-09-14\",\"2015-09-21\",\"2015-09-28\",\"2015-10-05\",\"2015-10-12\",\"2015-10-19\",\"2015-10-26\",\"2015-11-02\",\"2015-11-09\",\"2015-11-16\",\"2015-11-23\",\"2015-11-30\",\"2015-12-07\",\"2015-12-14\",\"2015-12-21\",\"2015-12-28\",\"2016-01-04\",\"2016-01-11\",\"2016-01-18\",\"2016-01-25\",\"2016-02-01\",\"2016-02-08\",\"2016-02-15\",\"2016-02-22\",\"2016-02-29\",\"2016-03-07\",\"2016-03-14\",\"2016-03-21\",\"2016-03-28\",\"2016-04-04\",\"2016-04-11\",\"2016-04-18\",\"2016-04-25\",\"2016-05-02\",\"2016-05-09\",\"2016-05-16\",\"2016-05-23\",\"2016-05-30\",\"2016-06-06\",\"2016-06-13\",\"2016-06-20\",\"2016-06-27\",\"2016-07-04\",\"2016-07-11\",\"2016-07-18\",\"2016-07-25\",\"2016-08-01\",\"2016-08-08\",\"2016-08-15\",\"2016-08-22\",\"2016-08-29\",\"2016-09-05\",\"2016-09-12\",\"2016-09-19\",\"2016-09-26\",\"2016-10-03\",\"2016-10-10\",\"2016-10-17\",\"2016-10-24\",\"2016-10-31\",\"2016-11-07\",\"2016-11-14\",\"2016-11-21\",\"2016-11-28\",\"2016-12-05\",\"2016-12-12\",\"2016-12-19\",\"2016-12-26\",\"2017-01-02\",\"2017-01-09\",\"2017-01-16\",\"2017-01-23\",\"2017-01-30\",\"2017-02-06\",\"2017-02-13\",\"2017-02-20\",\"2017-02-27\",\"2017-03-06\",\"2017-03-13\",\"2017-03-20\",\"2017-03-27\",\"2017-04-03\",\"2017-04-10\",\"2017-04-17\",\"2017-04-24\",\"2017-05-01\",\"2017-05-08\",\"2017-05-15\",\"2017-05-22\",\"2017-05-29\",\"2017-06-05\",\"2017-06-12\",\"2017-06-19\",\"2017-06-26\",\"2017-07-03\",\"2017-07-10\",\"2017-07-17\",\"2017-07-24\",\"2017-07-31\",\"2017-08-07\",\"2017-08-14\",\"2017-08-21\",\"2017-08-28\",\"2017-09-04\",\"2017-09-11\",\"2017-09-18\",\"2017-09-25\",\"2017-10-02\",\"2017-10-09\",\"2017-10-16\",\"2017-10-23\",\"2017-10-30\",\"2017-11-06\",\"2017-11-13\",\"2017-11-20\",\"2017-11-27\",\"2017-12-04\",\"2017-12-11\",\"2017-12-18\",\"2017-12-25\",\"2018-01-01\",\"2018-01-08\",\"2018-01-15\",\"2018-01-22\",\"2018-01-29\",\"2018-02-05\",\"2018-02-12\",\"2018-02-19\",\"2018-02-26\",\"2018-03-05\",\"2018-03-12\",\"2018-03-19\",\"2018-03-26\",\"2018-04-02\",\"2018-04-09\",\"2018-04-16\",\"2018-04-23\",\"2018-04-30\",\"2018-05-07\",\"2018-05-14\",\"2018-05-21\",\"2018-05-28\",\"2018-06-04\",\"2018-06-11\",\"2018-06-18\",\"2018-06-25\",\"2018-07-02\",\"2018-07-09\",\"2018-07-16\",\"2018-07-23\",\"2018-07-30\",\"2018-08-06\",\"2018-08-13\",\"2018-08-20\",\"2018-08-27\",\"2018-09-03\",\"2018-09-10\",\"2018-09-17\",\"2018-09-24\",\"2018-10-01\",\"2018-10-08\",\"2018-10-15\",\"2018-10-22\",\"2018-10-29\",\"2018-11-05\",\"2018-11-12\",\"2018-11-19\",\"2018-11-26\",\"2018-12-03\",\"2018-12-10\",\"2018-12-17\",\"2018-12-24\",\"2018-12-31\"],\"xaxis\":\"x\",\"y\":[0.0023765670488978,0.001561216913492,0.0017682295020711,0.0024471055185063,0.0018543473798824,0.0013374738744545,0.001856128541074,0.0021042422009022,0.002587380109241,0.0022144375469088,0.0019533761458103,0.0023849300141536,0.0019134559135602,0.0019312295173838,0.0027808468867442,0.0024616323535892,0.0021339607352912,0.0024551604677588,0.0036745750455602,0.0028564459920862,0.003126774135825,0.0031674965866732,0.0054458466238861,0.0040718848384306,0.0038740237843581,0.0050926899015013,0.0040084438521486,0.0046188874164416,0.0048423759767734,0.0044243176706195,0.0046157786401443,0.0038482745025104,0.0042070908297862,0.0028877536792037,0.0041446690696674,0.0033768843348713,0.0030848558586793,0.0030322116178641,0.0021491506111553,0.0021364385630213,0.0027383372106872,0.0016508695342006,0.0016958802734039,0.0018889528118119,0.0021027637329244,0.0017419115370612,0.0018563927126189,0.0018160790117001,0.0022691517022684,0.0011026853304024,0.0014441584682189,0.0014428745093328,0.0016484873270844,0.0013093044797068,0.0014356366491556,0.0016504440583876,0.0016973771186777,0.0012571902020457,0.001643590953557,0.0012126708865205,0.0010982105819184,0.0016982665036562,0.0016149451784096,0.0015591830938319,0.0019858968121321,0.0014786708152611,0.0017692065182371,0.0017242438441521,0.0017121682898487,0.0031020566768411,0.0020377839520957,0.0022806536906154,0.0035171810497068,0.003166857327545,0.003229286749307,0.0029092328091691,0.0040482392225147,0.0038074205477271,0.0033304877008113,0.0033772334304185,0.004501934837186,0.0042734253411543,0.0045661618148471,0.0038661855795853,0.0042464405426075,0.0038914331731055,0.0034265769385899,0.0042518268590566,0.0030374241481699,0.0025064901150963,0.0026754697207451,0.002401544799678,0.0010349840646589,0.0016908291149868,0.0016724306988591,0.0014360287817777,0.001400976155879,0.0011873553591931,0.0012413504855971,0.0013213837999412,0.0011126727258183,0.0010929134802588,0.0013416369361671,0.0011069290242051,0.000760619566545,0.0010756070980248,0.0006634802950889,0.0012937966043067,0.0010451381454917,0.0011778636824305,0.0016154445924526,0.0013167772601506,0.001069425642702,0.0017280712685452,0.0008703265068684,0.0015334648257435,0.0018591284067696,0.0012917272148307,0.0015582257965236,0.0015540918520303,0.0015826827729393,0.0018054964309023,0.0017077365177147,0.0022398701229184,0.002074141442191,0.0031197638676036,0.0028817418778765,0.0030021912269697,0.0039478129512011,0.003000955787765,0.0027177889364338,0.0031631655419792,0.0038957001337027,0.0030890236757743,0.0035057272348187,0.0029255974024685,0.0026280608317417,0.0022409817931081,0.0027223492313176,0.0022639711602691,0.0025226383208778,0.0019375649977518,0.0014980757278115,0.0010680848851236,0.0015666547939963,0.0005876110823874,0.0011490858072903,0.0003597489747599,0.0006379338476307,0.0007133858025094,0.0006847338048374,0.0004301963769655,0.0006845834933713,0.0005606907825767,0.0005159770778497,0.0005400183985976,0.000304748732659,0.0008917368398734,0.0002266305957333,0.0004297263771742,0.0003456731415996,0.0004353400557386,0.000673327161533,0.0006658554121827,0.0004463771299902,0.000945098012378,0.0009494561506204,0.0007750037111658,0.0005086953601928,0.0008657099169285,0.001307085075266,0.0020355829259168,0.0013853842264375,0.0016331682603321,0.0018987776804902,0.0022053843814326,0.0023671241804915,0.0022799144955723,0.0027608641408926,0.0015513011592594,0.0021925547455945,0.0028187090813989,0.0031749808180772,0.0028790112175041,0.0032664825374239,0.0031436862494573,0.0033930148474851,0.0033875685123944,0.0026453379115283,0.0032796310913308,0.0025173779882841,0.0025228019109455,0.0025040830336778,0.0020533857259461,0.0010306145348374,0.00128379431394,0.000663420340416,0.0005986115806579,0.0005807084018902,0.0007618455151797,0.000310736798668,0.0003843659651244,0.0003240563688279,0.0003114525593976,0.0003069344263844,0.0,0.0,0.0,0.0001017263260305],\"yaxis\":\"y\",\"type\":\"scattergl\"},{\"hovertemplate\":\"variable=pants_denim\\u003cbr\\u003eindex=%{x}\\u003cbr\\u003evalue=%{y}\\u003cextra\\u003e\\u003c\\u002fextra\\u003e\",\"legendgroup\":\"pants_denim\",\"line\":{\"color\":\"#ab63fa\",\"dash\":\"solid\"},\"marker\":{\"symbol\":\"circle\"},\"mode\":\"lines\",\"name\":\"pants_denim\",\"showlegend\":true,\"x\":[\"2015-01-05\",\"2015-01-12\",\"2015-01-19\",\"2015-01-26\",\"2015-02-02\",\"2015-02-09\",\"2015-02-16\",\"2015-02-23\",\"2015-03-02\",\"2015-03-09\",\"2015-03-16\",\"2015-03-23\",\"2015-03-30\",\"2015-04-06\",\"2015-04-13\",\"2015-04-20\",\"2015-04-27\",\"2015-05-04\",\"2015-05-11\",\"2015-05-18\",\"2015-05-25\",\"2015-06-01\",\"2015-06-08\",\"2015-06-15\",\"2015-06-22\",\"2015-06-29\",\"2015-07-06\",\"2015-07-13\",\"2015-07-20\",\"2015-07-27\",\"2015-08-03\",\"2015-08-10\",\"2015-08-17\",\"2015-08-24\",\"2015-08-31\",\"2015-09-07\",\"2015-09-14\",\"2015-09-21\",\"2015-09-28\",\"2015-10-05\",\"2015-10-12\",\"2015-10-19\",\"2015-10-26\",\"2015-11-02\",\"2015-11-09\",\"2015-11-16\",\"2015-11-23\",\"2015-11-30\",\"2015-12-07\",\"2015-12-14\",\"2015-12-21\",\"2015-12-28\",\"2016-01-04\",\"2016-01-11\",\"2016-01-18\",\"2016-01-25\",\"2016-02-01\",\"2016-02-08\",\"2016-02-15\",\"2016-02-22\",\"2016-02-29\",\"2016-03-07\",\"2016-03-14\",\"2016-03-21\",\"2016-03-28\",\"2016-04-04\",\"2016-04-11\",\"2016-04-18\",\"2016-04-25\",\"2016-05-02\",\"2016-05-09\",\"2016-05-16\",\"2016-05-23\",\"2016-05-30\",\"2016-06-06\",\"2016-06-13\",\"2016-06-20\",\"2016-06-27\",\"2016-07-04\",\"2016-07-11\",\"2016-07-18\",\"2016-07-25\",\"2016-08-01\",\"2016-08-08\",\"2016-08-15\",\"2016-08-22\",\"2016-08-29\",\"2016-09-05\",\"2016-09-12\",\"2016-09-19\",\"2016-09-26\",\"2016-10-03\",\"2016-10-10\",\"2016-10-17\",\"2016-10-24\",\"2016-10-31\",\"2016-11-07\",\"2016-11-14\",\"2016-11-21\",\"2016-11-28\",\"2016-12-05\",\"2016-12-12\",\"2016-12-19\",\"2016-12-26\",\"2017-01-02\",\"2017-01-09\",\"2017-01-16\",\"2017-01-23\",\"2017-01-30\",\"2017-02-06\",\"2017-02-13\",\"2017-02-20\",\"2017-02-27\",\"2017-03-06\",\"2017-03-13\",\"2017-03-20\",\"2017-03-27\",\"2017-04-03\",\"2017-04-10\",\"2017-04-17\",\"2017-04-24\",\"2017-05-01\",\"2017-05-08\",\"2017-05-15\",\"2017-05-22\",\"2017-05-29\",\"2017-06-05\",\"2017-06-12\",\"2017-06-19\",\"2017-06-26\",\"2017-07-03\",\"2017-07-10\",\"2017-07-17\",\"2017-07-24\",\"2017-07-31\",\"2017-08-07\",\"2017-08-14\",\"2017-08-21\",\"2017-08-28\",\"2017-09-04\",\"2017-09-11\",\"2017-09-18\",\"2017-09-25\",\"2017-10-02\",\"2017-10-09\",\"2017-10-16\",\"2017-10-23\",\"2017-10-30\",\"2017-11-06\",\"2017-11-13\",\"2017-11-20\",\"2017-11-27\",\"2017-12-04\",\"2017-12-11\",\"2017-12-18\",\"2017-12-25\",\"2018-01-01\",\"2018-01-08\",\"2018-01-15\",\"2018-01-22\",\"2018-01-29\",\"2018-02-05\",\"2018-02-12\",\"2018-02-19\",\"2018-02-26\",\"2018-03-05\",\"2018-03-12\",\"2018-03-19\",\"2018-03-26\",\"2018-04-02\",\"2018-04-09\",\"2018-04-16\",\"2018-04-23\",\"2018-04-30\",\"2018-05-07\",\"2018-05-14\",\"2018-05-21\",\"2018-05-28\",\"2018-06-04\",\"2018-06-11\",\"2018-06-18\",\"2018-06-25\",\"2018-07-02\",\"2018-07-09\",\"2018-07-16\",\"2018-07-23\",\"2018-07-30\",\"2018-08-06\",\"2018-08-13\",\"2018-08-20\",\"2018-08-27\",\"2018-09-03\",\"2018-09-10\",\"2018-09-17\",\"2018-09-24\",\"2018-10-01\",\"2018-10-08\",\"2018-10-15\",\"2018-10-22\",\"2018-10-29\",\"2018-11-05\",\"2018-11-12\",\"2018-11-19\",\"2018-11-26\",\"2018-12-03\",\"2018-12-10\",\"2018-12-17\",\"2018-12-24\",\"2018-12-31\"],\"xaxis\":\"x\",\"y\":[0.0242409838987582,0.023860799535812,0.0276247088553793,0.0299499502819038,0.0305901421680585,0.0279797789579191,0.0248113098957187,0.0239335201833708,0.0287050317490403,0.0318214794293299,0.034453970778955,0.0312512406312631,0.0326660409157569,0.0337799722522864,0.0353996183427669,0.0353761901661685,0.0392388613960055,0.0355232153060503,0.0322708445170864,0.0364021486450954,0.0340526794196381,0.0316785034928696,0.0290038796057515,0.0258975331085763,0.0256034729057931,0.0207056748487498,0.0207423263197563,0.023647266796609,0.0226740437659327,0.0250899248199136,0.0195651815288548,0.0188160920553576,0.0226554054476768,0.0240747753123399,0.0304156557262052,0.0316419312426329,0.0302579906456006,0.0287791638402167,0.029665171018334,0.0314857867147567,0.0329697929306933,0.0342008419080585,0.0300197187872555,0.0312192699184593,0.0312259104634344,0.0325881598182074,0.0309596089892579,0.0274469485026143,0.028840445431873,0.0255300611137031,0.0285654337518407,0.0243208866581664,0.0325962501638493,0.0286808110292056,0.0309346553896495,0.0291491093412816,0.0329702221194993,0.0320920337783466,0.0294767037199785,0.0296783229570533,0.032386229401235,0.0341819073660309,0.0380952199833112,0.0394983933556551,0.0429145161024741,0.04015782185844,0.0422808753361014,0.039465444952782,0.0412864293295259,0.0412446945659291,0.0410965059042016,0.0387103758177087,0.0354199770042755,0.0338125206620235,0.0307078815772266,0.0340875487072098,0.0270845854487424,0.0276328828001065,0.0250381327635801,0.026893951295195,0.0216505989400721,0.0227646984756904,0.0236702069730048,0.0243008934837784,0.0221355017257083,0.0202843951003539,0.0284277709663717,0.0280896263258842,0.0306199513445541,0.0329833698024037,0.0350339395958148,0.0354858297877447,0.0369480584722318,0.039132946570612,0.0354383445004771,0.0356980878829111,0.0324768590407685,0.0340671499078373,0.0339303420052667,0.032856274745495,0.0289758524670152,0.0280885123404558,0.0285978707950351,0.0259933485395125,0.0337950723895667,0.0315491833801854,0.0308555537494739,0.0300690682333808,0.0316801187173294,0.0346593871370051,0.0343693565872472,0.0328054191336826,0.0347943630767849,0.0373230407042491,0.0394162722106358,0.0430194665092536,0.0497318373759348,0.0455642330127112,0.0475856349740084,0.0482030412278806,0.0491828237608825,0.0450735039219808,0.046269677248688,0.0411962100815212,0.034476552482294,0.032640600418095,0.0335543298712091,0.0286016822909109,0.027209150857364,0.030019721067354,0.0241783471603369,0.0272205807111662,0.0249755137302505,0.0275740437372612,0.0244484591223813,0.0243825468789521,0.0241808571503615,0.0258540756022581,0.0282650725452558,0.0332866148642971,0.038577681849835,0.0382313333115458,0.0380847930320127,0.0376003846621805,0.0388591669800908,0.0409028849634156,0.0393897459164114,0.0380650501947054,0.0369416543497763,0.0375718492148418,0.0381464512085568,0.0364279250511217,0.0347188755420834,0.0332088784061357,0.0312217319184607,0.0294175535363424,0.0322490725036489,0.0375276403607525,0.0336846393967603,0.0344872650771321,0.0367490233932216,0.0384608403107707,0.0356188722631556,0.0352317931536887,0.0365313970420989,0.0368974092243945,0.0395730219136402,0.0425872887669214,0.0448432981238749,0.0479395207935968,0.0451409542486565,0.0435971372637202,0.0434582884022483,0.0433598785150736,0.0393398581882717,0.0388039045002022,0.0354898200365165,0.0329563317569444,0.0321066304561833,0.0334709024203856,0.0323325980936086,0.0243494600012142,0.0195239456961717,0.0227013148197831,0.0193382620354689,0.0182340327467156,0.0167406692040414,0.0194401662218339,0.0215556762333505,0.0245627956076534,0.0269529883003969,0.030657040768348,0.0348541166175802,0.0324882155412435,0.034628646744082,0.0383259285355113,0.0397045383478703,0.0393374302311603,0.0411699316447548,0.0382273240720973,0.0384249489525845,0.0375663099796904,0.0357579163361076,0.0350127010541583,0.0355519443261874,0.034289731099305,0.0341984686326521,0.0345795808346479,0.0316463045271578],\"yaxis\":\"y\",\"type\":\"scattergl\"},{\"hovertemplate\":\"variable=eyewear_squaredglassesshape\\u003cbr\\u003eindex=%{x}\\u003cbr\\u003evalue=%{y}\\u003cextra\\u003e\\u003c\\u002fextra\\u003e\",\"legendgroup\":\"eyewear_squaredglassesshape\",\"line\":{\"color\":\"#FFA15A\",\"dash\":\"solid\"},\"marker\":{\"symbol\":\"circle\"},\"mode\":\"lines\",\"name\":\"eyewear_squaredglassesshape\",\"showlegend\":true,\"x\":[\"2015-01-05\",\"2015-01-12\",\"2015-01-19\",\"2015-01-26\",\"2015-02-02\",\"2015-02-09\",\"2015-02-16\",\"2015-02-23\",\"2015-03-02\",\"2015-03-09\",\"2015-03-16\",\"2015-03-23\",\"2015-03-30\",\"2015-04-06\",\"2015-04-13\",\"2015-04-20\",\"2015-04-27\",\"2015-05-04\",\"2015-05-11\",\"2015-05-18\",\"2015-05-25\",\"2015-06-01\",\"2015-06-08\",\"2015-06-15\",\"2015-06-22\",\"2015-06-29\",\"2015-07-06\",\"2015-07-13\",\"2015-07-20\",\"2015-07-27\",\"2015-08-03\",\"2015-08-10\",\"2015-08-17\",\"2015-08-24\",\"2015-08-31\",\"2015-09-07\",\"2015-09-14\",\"2015-09-21\",\"2015-09-28\",\"2015-10-05\",\"2015-10-12\",\"2015-10-19\",\"2015-10-26\",\"2015-11-02\",\"2015-11-09\",\"2015-11-16\",\"2015-11-23\",\"2015-11-30\",\"2015-12-07\",\"2015-12-14\",\"2015-12-21\",\"2015-12-28\",\"2016-01-04\",\"2016-01-11\",\"2016-01-18\",\"2016-01-25\",\"2016-02-01\",\"2016-02-08\",\"2016-02-15\",\"2016-02-22\",\"2016-02-29\",\"2016-03-07\",\"2016-03-14\",\"2016-03-21\",\"2016-03-28\",\"2016-04-04\",\"2016-04-11\",\"2016-04-18\",\"2016-04-25\",\"2016-05-02\",\"2016-05-09\",\"2016-05-16\",\"2016-05-23\",\"2016-05-30\",\"2016-06-06\",\"2016-06-13\",\"2016-06-20\",\"2016-06-27\",\"2016-07-04\",\"2016-07-11\",\"2016-07-18\",\"2016-07-25\",\"2016-08-01\",\"2016-08-08\",\"2016-08-15\",\"2016-08-22\",\"2016-08-29\",\"2016-09-05\",\"2016-09-12\",\"2016-09-19\",\"2016-09-26\",\"2016-10-03\",\"2016-10-10\",\"2016-10-17\",\"2016-10-24\",\"2016-10-31\",\"2016-11-07\",\"2016-11-14\",\"2016-11-21\",\"2016-11-28\",\"2016-12-05\",\"2016-12-12\",\"2016-12-19\",\"2016-12-26\",\"2017-01-02\",\"2017-01-09\",\"2017-01-16\",\"2017-01-23\",\"2017-01-30\",\"2017-02-06\",\"2017-02-13\",\"2017-02-20\",\"2017-02-27\",\"2017-03-06\",\"2017-03-13\",\"2017-03-20\",\"2017-03-27\",\"2017-04-03\",\"2017-04-10\",\"2017-04-17\",\"2017-04-24\",\"2017-05-01\",\"2017-05-08\",\"2017-05-15\",\"2017-05-22\",\"2017-05-29\",\"2017-06-05\",\"2017-06-12\",\"2017-06-19\",\"2017-06-26\",\"2017-07-03\",\"2017-07-10\",\"2017-07-17\",\"2017-07-24\",\"2017-07-31\",\"2017-08-07\",\"2017-08-14\",\"2017-08-21\",\"2017-08-28\",\"2017-09-04\",\"2017-09-11\",\"2017-09-18\",\"2017-09-25\",\"2017-10-02\",\"2017-10-09\",\"2017-10-16\",\"2017-10-23\",\"2017-10-30\",\"2017-11-06\",\"2017-11-13\",\"2017-11-20\",\"2017-11-27\",\"2017-12-04\",\"2017-12-11\",\"2017-12-18\",\"2017-12-25\",\"2018-01-01\",\"2018-01-08\",\"2018-01-15\",\"2018-01-22\",\"2018-01-29\",\"2018-02-05\",\"2018-02-12\",\"2018-02-19\",\"2018-02-26\",\"2018-03-05\",\"2018-03-12\",\"2018-03-19\",\"2018-03-26\",\"2018-04-02\",\"2018-04-09\",\"2018-04-16\",\"2018-04-23\",\"2018-04-30\",\"2018-05-07\",\"2018-05-14\",\"2018-05-21\",\"2018-05-28\",\"2018-06-04\",\"2018-06-11\",\"2018-06-18\",\"2018-06-25\",\"2018-07-02\",\"2018-07-09\",\"2018-07-16\",\"2018-07-23\",\"2018-07-30\",\"2018-08-06\",\"2018-08-13\",\"2018-08-20\",\"2018-08-27\",\"2018-09-03\",\"2018-09-10\",\"2018-09-17\",\"2018-09-24\",\"2018-10-01\",\"2018-10-08\",\"2018-10-15\",\"2018-10-22\",\"2018-10-29\",\"2018-11-05\",\"2018-11-12\",\"2018-11-19\",\"2018-11-26\",\"2018-12-03\",\"2018-12-10\",\"2018-12-17\",\"2018-12-24\",\"2018-12-31\"],\"xaxis\":\"x\",\"y\":[0.0026142237537876,0.0031868609617776,0.0021595095314758,0.0020324787459463,0.0033293199512461,0.001700002184312,0.0020193590227608,0.002513766829842,0.00174465006565,0.0026721256410277,0.0020807768702151,0.0021807369308136,0.0024986854270214,0.0035682287833334,0.0029566629669729,0.0025424360628076,0.0030001917758665,0.002682214018991,0.0028431691760781,0.0024838170235367,0.0025641811341254,0.0031216166084197,0.0032503613913821,0.0028497208746443,0.001916377803598,0.0027734519980303,0.0033383743367721,0.0030103143882058,0.0029716043292341,0.0028962898869584,0.002905431081985,0.0033614934399351,0.0048579478685786,0.0026216903978588,0.0024212445419694,0.001831464703699,0.0021841147824815,0.0025080513927907,0.0016818568157116,0.0017077659861875,0.0018706474029403,0.0018366120539166,0.0018386332299396,0.0019470988443828,0.0022600358454605,0.0018525076549218,0.0019211746265957,0.001651802173958,0.0017358919595582,0.0011311587382352,0.0018379261905498,0.0019047423851167,0.002855868205751,0.0019413484593644,0.0016139497826243,0.0016604485385514,0.0019724289874039,0.0015286880640116,0.0017136344254723,0.0015544400282124,0.0021635363102814,0.0016066409991059,0.0020926519089545,0.0021172585280004,0.0021517227498702,0.0018031340507969,0.0017172503101673,0.0024027819381952,0.0023730776144578,0.0019832984872093,0.001643888892229,0.0023972836835386,0.0021766043790367,0.0020563941813964,0.0025328003107618,0.0016211792866005,0.0019116092493439,0.0023680550038105,0.0017697574348765,0.0025710050482999,0.0021501883373673,0.0018765916624846,0.0025574040406952,0.0028231494284603,0.0024262173646744,0.0021356659602735,0.0021211897128903,0.0019738686412673,0.0017060682667749,0.0019599570023151,0.0018496761011009,0.0016671080319554,0.0014221088561024,0.0015017602227147,0.0014504903299073,0.001127286213824,0.0019089945050363,0.0015970984200399,0.0015813757793,0.0011674041443066,0.0012904492122391,0.0013061690167886,0.001421932152976,0.0011950249767278,0.0010163937155069,0.0016552118484024,0.0013431705434291,0.0010414325984965,0.0009643819251912,0.0017103421312442,0.0013676880197079,0.0012589439163158,0.0012436975798138,0.0010392335264104,0.0011001040005571,0.001298902311671,0.0014702860100385,0.0012935377104958,0.0018340481447974,0.0012522043442708,0.0012826980657027,0.0013969701781149,0.0015930516110693,0.0013351693860313,0.0018724403317566,0.0015893876634385,0.0013714628996781,0.0016781027042606,0.0011835231366593,0.0015843454207885,0.0016637554636215,0.001540389210937,0.0012318793326342,0.0014887551696312,0.0016971492096937,0.0014346996702463,0.0014559204610115,0.0015814362410169,0.0011394642977061,0.0010756334931322,0.0011925605927187,0.000877258688364,0.0006714413452757,0.0010437103217543,0.0012233851625971,0.0009242125133751,0.0008786644975255,0.0009663498584926,0.0007707855314394,0.0009713241702321,0.0010659380551175,0.001275119433103,0.0010133555507981,0.0011061179267882,0.0007327257960389,0.0008939399545686,0.0009315307002301,0.0013261839418972,0.0013522502821205,0.0010711023636193,0.0009082273877216,0.0008268939123014,0.0006426774807806,0.0010437655136399,0.0009357229884645,0.0011492992511241,0.0009867580917917,0.0009680546698702,0.0014831105704494,0.0015072335276634,0.0010107319486434,0.0013289853423829,0.00101325192302,0.0012575313539295,0.0011464672772971,0.0011684816197329,0.0012600243128767,0.0012521159881577,0.0013602905023632,0.0010550699163441,0.0014627577403799,0.0011541432719012,0.00104031938724,0.0012354947444527,0.0013126742430245,0.0013061696073525,0.0013884793810112,0.0010293518167361,0.0008248192019904,0.0009027009857871,0.0010030886691083,0.0010959947222857,0.000939682610808,0.0011259882874381,0.0012868782519447,0.0009450554324087,0.0012004367903204,0.0009923264416816,0.0005533696197741,0.000606616402314,0.0005134830253118,0.0009615276706532,0.0006189619716927,0.0005506726559697,0.0005275252749802,0.0007483311976256,0.0004596296195253,0.0008246498456038,0.0007651138730802],\"yaxis\":\"y\",\"type\":\"scattergl\"}],                        {\"template\":{\"data\":{\"histogram2dcontour\":[{\"type\":\"histogram2dcontour\",\"colorbar\":{\"outlinewidth\":0,\"ticks\":\"\"},\"colorscale\":[[0.0,\"#0d0887\"],[0.1111111111111111,\"#46039f\"],[0.2222222222222222,\"#7201a8\"],[0.3333333333333333,\"#9c179e\"],[0.4444444444444444,\"#bd3786\"],[0.5555555555555556,\"#d8576b\"],[0.6666666666666666,\"#ed7953\"],[0.7777777777777778,\"#fb9f3a\"],[0.8888888888888888,\"#fdca26\"],[1.0,\"#f0f921\"]]}],\"choropleth\":[{\"type\":\"choropleth\",\"colorbar\":{\"outlinewidth\":0,\"ticks\":\"\"}}],\"histogram2d\":[{\"type\":\"histogram2d\",\"colorbar\":{\"outlinewidth\":0,\"ticks\":\"\"},\"colorscale\":[[0.0,\"#0d0887\"],[0.1111111111111111,\"#46039f\"],[0.2222222222222222,\"#7201a8\"],[0.3333333333333333,\"#9c179e\"],[0.4444444444444444,\"#bd3786\"],[0.5555555555555556,\"#d8576b\"],[0.6666666666666666,\"#ed7953\"],[0.7777777777777778,\"#fb9f3a\"],[0.8888888888888888,\"#fdca26\"],[1.0,\"#f0f921\"]]}],\"heatmap\":[{\"type\":\"heatmap\",\"colorbar\":{\"outlinewidth\":0,\"ticks\":\"\"},\"colorscale\":[[0.0,\"#0d0887\"],[0.1111111111111111,\"#46039f\"],[0.2222222222222222,\"#7201a8\"],[0.3333333333333333,\"#9c179e\"],[0.4444444444444444,\"#bd3786\"],[0.5555555555555556,\"#d8576b\"],[0.6666666666666666,\"#ed7953\"],[0.7777777777777778,\"#fb9f3a\"],[0.8888888888888888,\"#fdca26\"],[1.0,\"#f0f921\"]]}],\"heatmapgl\":[{\"type\":\"heatmapgl\",\"colorbar\":{\"outlinewidth\":0,\"ticks\":\"\"},\"colorscale\":[[0.0,\"#0d0887\"],[0.1111111111111111,\"#46039f\"],[0.2222222222222222,\"#7201a8\"],[0.3333333333333333,\"#9c179e\"],[0.4444444444444444,\"#bd3786\"],[0.5555555555555556,\"#d8576b\"],[0.6666666666666666,\"#ed7953\"],[0.7777777777777778,\"#fb9f3a\"],[0.8888888888888888,\"#fdca26\"],[1.0,\"#f0f921\"]]}],\"contourcarpet\":[{\"type\":\"contourcarpet\",\"colorbar\":{\"outlinewidth\":0,\"ticks\":\"\"}}],\"contour\":[{\"type\":\"contour\",\"colorbar\":{\"outlinewidth\":0,\"ticks\":\"\"},\"colorscale\":[[0.0,\"#0d0887\"],[0.1111111111111111,\"#46039f\"],[0.2222222222222222,\"#7201a8\"],[0.3333333333333333,\"#9c179e\"],[0.4444444444444444,\"#bd3786\"],[0.5555555555555556,\"#d8576b\"],[0.6666666666666666,\"#ed7953\"],[0.7777777777777778,\"#fb9f3a\"],[0.8888888888888888,\"#fdca26\"],[1.0,\"#f0f921\"]]}],\"surface\":[{\"type\":\"surface\",\"colorbar\":{\"outlinewidth\":0,\"ticks\":\"\"},\"colorscale\":[[0.0,\"#0d0887\"],[0.1111111111111111,\"#46039f\"],[0.2222222222222222,\"#7201a8\"],[0.3333333333333333,\"#9c179e\"],[0.4444444444444444,\"#bd3786\"],[0.5555555555555556,\"#d8576b\"],[0.6666666666666666,\"#ed7953\"],[0.7777777777777778,\"#fb9f3a\"],[0.8888888888888888,\"#fdca26\"],[1.0,\"#f0f921\"]]}],\"mesh3d\":[{\"type\":\"mesh3d\",\"colorbar\":{\"outlinewidth\":0,\"ticks\":\"\"}}],\"scatter\":[{\"fillpattern\":{\"fillmode\":\"overlay\",\"size\":10,\"solidity\":0.2},\"type\":\"scatter\"}],\"parcoords\":[{\"type\":\"parcoords\",\"line\":{\"colorbar\":{\"outlinewidth\":0,\"ticks\":\"\"}}}],\"scatterpolargl\":[{\"type\":\"scatterpolargl\",\"marker\":{\"colorbar\":{\"outlinewidth\":0,\"ticks\":\"\"}}}],\"bar\":[{\"error_x\":{\"color\":\"#2a3f5f\"},\"error_y\":{\"color\":\"#2a3f5f\"},\"marker\":{\"line\":{\"color\":\"#E5ECF6\",\"width\":0.5},\"pattern\":{\"fillmode\":\"overlay\",\"size\":10,\"solidity\":0.2}},\"type\":\"bar\"}],\"scattergeo\":[{\"type\":\"scattergeo\",\"marker\":{\"colorbar\":{\"outlinewidth\":0,\"ticks\":\"\"}}}],\"scatterpolar\":[{\"type\":\"scatterpolar\",\"marker\":{\"colorbar\":{\"outlinewidth\":0,\"ticks\":\"\"}}}],\"histogram\":[{\"marker\":{\"pattern\":{\"fillmode\":\"overlay\",\"size\":10,\"solidity\":0.2}},\"type\":\"histogram\"}],\"scattergl\":[{\"type\":\"scattergl\",\"marker\":{\"colorbar\":{\"outlinewidth\":0,\"ticks\":\"\"}}}],\"scatter3d\":[{\"type\":\"scatter3d\",\"line\":{\"colorbar\":{\"outlinewidth\":0,\"ticks\":\"\"}},\"marker\":{\"colorbar\":{\"outlinewidth\":0,\"ticks\":\"\"}}}],\"scattermapbox\":[{\"type\":\"scattermapbox\",\"marker\":{\"colorbar\":{\"outlinewidth\":0,\"ticks\":\"\"}}}],\"scatterternary\":[{\"type\":\"scatterternary\",\"marker\":{\"colorbar\":{\"outlinewidth\":0,\"ticks\":\"\"}}}],\"scattercarpet\":[{\"type\":\"scattercarpet\",\"marker\":{\"colorbar\":{\"outlinewidth\":0,\"ticks\":\"\"}}}],\"carpet\":[{\"aaxis\":{\"endlinecolor\":\"#2a3f5f\",\"gridcolor\":\"white\",\"linecolor\":\"white\",\"minorgridcolor\":\"white\",\"startlinecolor\":\"#2a3f5f\"},\"baxis\":{\"endlinecolor\":\"#2a3f5f\",\"gridcolor\":\"white\",\"linecolor\":\"white\",\"minorgridcolor\":\"white\",\"startlinecolor\":\"#2a3f5f\"},\"type\":\"carpet\"}],\"table\":[{\"cells\":{\"fill\":{\"color\":\"#EBF0F8\"},\"line\":{\"color\":\"white\"}},\"header\":{\"fill\":{\"color\":\"#C8D4E3\"},\"line\":{\"color\":\"white\"}},\"type\":\"table\"}],\"barpolar\":[{\"marker\":{\"line\":{\"color\":\"#E5ECF6\",\"width\":0.5},\"pattern\":{\"fillmode\":\"overlay\",\"size\":10,\"solidity\":0.2}},\"type\":\"barpolar\"}],\"pie\":[{\"automargin\":true,\"type\":\"pie\"}]},\"layout\":{\"autotypenumbers\":\"strict\",\"colorway\":[\"#636efa\",\"#EF553B\",\"#00cc96\",\"#ab63fa\",\"#FFA15A\",\"#19d3f3\",\"#FF6692\",\"#B6E880\",\"#FF97FF\",\"#FECB52\"],\"font\":{\"color\":\"#2a3f5f\"},\"hovermode\":\"closest\",\"hoverlabel\":{\"align\":\"left\"},\"paper_bgcolor\":\"white\",\"plot_bgcolor\":\"#E5ECF6\",\"polar\":{\"bgcolor\":\"#E5ECF6\",\"angularaxis\":{\"gridcolor\":\"white\",\"linecolor\":\"white\",\"ticks\":\"\"},\"radialaxis\":{\"gridcolor\":\"white\",\"linecolor\":\"white\",\"ticks\":\"\"}},\"ternary\":{\"bgcolor\":\"#E5ECF6\",\"aaxis\":{\"gridcolor\":\"white\",\"linecolor\":\"white\",\"ticks\":\"\"},\"baxis\":{\"gridcolor\":\"white\",\"linecolor\":\"white\",\"ticks\":\"\"},\"caxis\":{\"gridcolor\":\"white\",\"linecolor\":\"white\",\"ticks\":\"\"}},\"coloraxis\":{\"colorbar\":{\"outlinewidth\":0,\"ticks\":\"\"}},\"colorscale\":{\"sequential\":[[0.0,\"#0d0887\"],[0.1111111111111111,\"#46039f\"],[0.2222222222222222,\"#7201a8\"],[0.3333333333333333,\"#9c179e\"],[0.4444444444444444,\"#bd3786\"],[0.5555555555555556,\"#d8576b\"],[0.6666666666666666,\"#ed7953\"],[0.7777777777777778,\"#fb9f3a\"],[0.8888888888888888,\"#fdca26\"],[1.0,\"#f0f921\"]],\"sequentialminus\":[[0.0,\"#0d0887\"],[0.1111111111111111,\"#46039f\"],[0.2222222222222222,\"#7201a8\"],[0.3333333333333333,\"#9c179e\"],[0.4444444444444444,\"#bd3786\"],[0.5555555555555556,\"#d8576b\"],[0.6666666666666666,\"#ed7953\"],[0.7777777777777778,\"#fb9f3a\"],[0.8888888888888888,\"#fdca26\"],[1.0,\"#f0f921\"]],\"diverging\":[[0,\"#8e0152\"],[0.1,\"#c51b7d\"],[0.2,\"#de77ae\"],[0.3,\"#f1b6da\"],[0.4,\"#fde0ef\"],[0.5,\"#f7f7f7\"],[0.6,\"#e6f5d0\"],[0.7,\"#b8e186\"],[0.8,\"#7fbc41\"],[0.9,\"#4d9221\"],[1,\"#276419\"]]},\"xaxis\":{\"gridcolor\":\"white\",\"linecolor\":\"white\",\"ticks\":\"\",\"title\":{\"standoff\":15},\"zerolinecolor\":\"white\",\"automargin\":true,\"zerolinewidth\":2},\"yaxis\":{\"gridcolor\":\"white\",\"linecolor\":\"white\",\"ticks\":\"\",\"title\":{\"standoff\":15},\"zerolinecolor\":\"white\",\"automargin\":true,\"zerolinewidth\":2},\"scene\":{\"xaxis\":{\"backgroundcolor\":\"#E5ECF6\",\"gridcolor\":\"white\",\"linecolor\":\"white\",\"showbackground\":true,\"ticks\":\"\",\"zerolinecolor\":\"white\",\"gridwidth\":2},\"yaxis\":{\"backgroundcolor\":\"#E5ECF6\",\"gridcolor\":\"white\",\"linecolor\":\"white\",\"showbackground\":true,\"ticks\":\"\",\"zerolinecolor\":\"white\",\"gridwidth\":2},\"zaxis\":{\"backgroundcolor\":\"#E5ECF6\",\"gridcolor\":\"white\",\"linecolor\":\"white\",\"showbackground\":true,\"ticks\":\"\",\"zerolinecolor\":\"white\",\"gridwidth\":2}},\"shapedefaults\":{\"line\":{\"color\":\"#2a3f5f\"}},\"annotationdefaults\":{\"arrowcolor\":\"#2a3f5f\",\"arrowhead\":0,\"arrowwidth\":1},\"geo\":{\"bgcolor\":\"white\",\"landcolor\":\"#E5ECF6\",\"subunitcolor\":\"white\",\"showland\":true,\"showlakes\":true,\"lakecolor\":\"white\"},\"title\":{\"x\":0.05},\"mapbox\":{\"style\":\"light\"}}},\"xaxis\":{\"anchor\":\"y\",\"domain\":[0.0,1.0],\"title\":{\"text\":\"index\"}},\"yaxis\":{\"anchor\":\"x\",\"domain\":[0.0,1.0],\"title\":{\"text\":\"value\"}},\"legend\":{\"title\":{\"text\":\"variable\"},\"tracegroupgap\":0},\"margin\":{\"t\":60}},                        {\"responsive\": true}                    ).then(function(){\n",
              "                            \n",
              "var gd = document.getElementById('71602e8a-88b5-45c4-a741-dc2f43b47044');\n",
              "var x = new MutationObserver(function (mutations, observer) {{\n",
              "        var display = window.getComputedStyle(gd).display;\n",
              "        if (!display || display === 'none') {{\n",
              "            console.log([gd, 'removed!']);\n",
              "            Plotly.purge(gd);\n",
              "            observer.disconnect();\n",
              "        }}\n",
              "}});\n",
              "\n",
              "// Listen for the removal of the full notebook cells\n",
              "var notebookContainer = gd.closest('#notebook-container');\n",
              "if (notebookContainer) {{\n",
              "    x.observe(notebookContainer, {childList: true});\n",
              "}}\n",
              "\n",
              "// Listen for the clearing of the current output cell\n",
              "var outputEl = gd.closest('.output');\n",
              "if (outputEl) {{\n",
              "    x.observe(outputEl, {childList: true});\n",
              "}}\n",
              "\n",
              "                        })                };                            </script>        </div>\n",
              "</body>\n",
              "</html>"
            ]
          },
          "metadata": {}
        }
      ],
      "source": [
        "import plotly.express as px\n",
        "\n",
        "px.line(df)"
      ]
    },
    {
      "cell_type": "markdown",
      "id": "0dfdae60-a99c-4ef5-a061-6e307bdabc5e",
      "metadata": {
        "id": "0dfdae60-a99c-4ef5-a061-6e307bdabc5e"
      },
      "source": [
        "c) Do you notice any clear trends (upwards or downwards) for any of the clothing items?"
      ]
    },
    {
      "cell_type": "markdown",
      "id": "471da3ce-28d1-4244-9286-8267787fc11d",
      "metadata": {
        "id": "471da3ce-28d1-4244-9286-8267787fc11d"
      },
      "source": [
        "Indeed, we can see a few major trends appearing:\n",
        "\n",
        "- lace-up shoes (`shoes_laceup`), denim (`pants_denim`) are on the rise globally\n",
        "\n",
        "- tanks with close round collars (`top_tanksleeve_tshirtnect`) and square glasses (`eyewear_squaredglassesshape`) are decreasing globally\n",
        "\n",
        "- dresses or shirts with thin straps (`body_spaghettistraps`) are increasing year after year, but only in summer; they remain stable in the other seasons"
      ]
    },
    {
      "cell_type": "markdown",
      "id": "0e6f729d-3679-403f-a27a-6e371ddde651",
      "metadata": {
        "id": "0e6f729d-3679-403f-a27a-6e371ddde651"
      },
      "source": [
        "d) Can you recognise any instances of seasonality?"
      ]
    },
    {
      "cell_type": "markdown",
      "id": "9d220818-f314-418b-8291-457cd15ee19c",
      "metadata": {
        "id": "9d220818-f314-418b-8291-457cd15ee19c"
      },
      "source": [
        "For all series, it is clear that the same patterns recur year after year. The data is on a weekly basis and we clearly have cycles of size 52 (hint: there are 52 weeks in a year)."
      ]
    },
    {
      "cell_type": "markdown",
      "id": "3d4a961e-0394-4efc-b866-2330dcea538f",
      "metadata": {
        "id": "3d4a961e-0394-4efc-b866-2330dcea538f"
      },
      "source": [
        "e) There's a quick way to confirm our intuition about the seasonality of these fashion trends. We can decompose time series data to see the `trend` + `seasonality` + `residuals`.\n",
        "\n",
        "Execute the cell below to see the results for denim trousers."
      ]
    },
    {
      "cell_type": "code",
      "execution_count": null,
      "id": "1d563c3b-dcae-4059-bd82-2e580f1616ea",
      "metadata": {
        "colab": {
          "base_uri": "https://localhost:8080/",
          "height": 533
        },
        "id": "1d563c3b-dcae-4059-bd82-2e580f1616ea",
        "outputId": "1a870ba1-933a-4f74-e593-2570727b20ac"
      },
      "outputs": [
        {
          "output_type": "display_data",
          "data": {
            "text/plain": [
              "<Figure size 1200x800 with 4 Axes>"
            ],
            "image/png": "[encoded data removed]"
          },
          "metadata": {}
        }
      ],
      "source": [
        "from statsmodels.tsa.seasonal import seasonal_decompose\n",
        "import matplotlib.pyplot as plt\n",
        "\n",
        "# decompose time serie\n",
        "r = seasonal_decompose(df['pants_denim'], period=52)\n",
        "\n",
        "# save plot to fig variable\n",
        "fig = r.plot() # Returns a Matplotlib Figure with 4 subplots stacked vertically: 1.\tObserved 2.\tTrend 3.\tSeasonal 4.\tResidual\n",
        "\n",
        "Mathematically:\n",
        "\n",
        "\\text{Observed} = \\text{Trend} + \\text{Seasonal} + \\text{Residual}\n",
        "\t•\tIn multiplicative decomposition, it’s:\n",
        "\\text{Observed} = \\text{Trend} \\times \\text{Seasonal} \\times \\text{Residual}\n",
        "\n",
        "# set custom dimensions\n",
        "fig.set_figwidth(12)\n",
        "fig.set_figheight(8)\n",
        "plt.tight_layout()\n",
        "\n",
        "# delete all x axis except\n",
        "for ax in fig.get_axes(): # .get_axes() returns a list of all Axes (subplots) inside the figure.\n",
        "    ax.set_xticks(list(range(0,209,26)))# \tCreates a list of numbers from 0 to (but not including) 209, stepping by 26: [0, 26, 52, 78, 104, 130, 156, 182, 208]\n",
        "\n",
        "# why 26? If your data is weekly, then:\n",
        "\t#•\tEach tick on the x-axis = 1 week.\n",
        "\t#•\tStepping by 26 means every 26 weeks → about half a year (since 26 weeks ≈ 6 months).\n",
        "  #•  The date labels in the chart is in a 6-month basis"
      ]
    },
    {
      "cell_type": "markdown",
      "source": [
        "f) Can you interpret the seasonality of denim trousers using the above results?\n",
        "\n",
        "- Were there times throughout the year when denim trousers were more popular?\n",
        "\n",
        "- What do you think you could say about the popularity of denim between 2015 and 2018 given these results?\n",
        "\n",
        "Try modifying the code in the cell above to view the breakdowns of a few other items of clothing. Before running the code for each item, why not have a go at predicting the trends yourself? Were your fashion intuitions visionary or passé?"
      ],
      "metadata": {
        "id": "MxwXuTexy_DI"
      },
      "id": "MxwXuTexy_DI"
    },
    {
      "cell_type": "markdown",
      "id": "b4c17ed3-18c7-414b-8241-cf498cce7109",
      "metadata": {
        "id": "b4c17ed3-18c7-414b-8241-cf498cce7109"
      },
      "source": [
        "- Reading the `Seasonal` line, we can see that people wear denim in two seasons, spring and fall (these are the two recurring \"bumps\" in seasonality)\n",
        "\n",
        "- Reading the `Trend` line, we see that the trend is up between 2015 and 2018, then stabilizes"
      ]
    },
    {
      "cell_type": "markdown",
      "id": "ecdaa139-f117-470b-9d75-3901692c74f1",
      "metadata": {
        "id": "ecdaa139-f117-470b-9d75-3901692c74f1"
      },
      "source": [
        "## Preprocessing data\n",
        "\n"
      ]
    },
    {
      "cell_type": "markdown",
      "id": "bd91a11b-ae3d-424a-9986-5b16dae573c8",
      "metadata": {
        "id": "bd91a11b-ae3d-424a-9986-5b16dae573c8"
      },
      "source": [
        "a) To prepare the modelling, we need to make sure that our DataFrame is formatted correctly for a Time Series model. For this we will need:\n",
        "\n",
        "- an index with a weekly frequency and a periodic type (e.g. `dtype: 'period[W-MON]'`)\n",
        "\n",
        "- and a time type column named `date` (e.g. `dtype: datetime64[ns]`)\n",
        "\n",
        "To achieve this, we'll need to do some pre-processing.\n",
        "\n",
        "Our index is already a date, right? Or is it? Let's investigate!"
      ]
    },
    {
      "cell_type": "code",
      "source": [
        "df.index.dtype\n",
        "\n",
        "# dtype('O') = object type"
      ],
      "metadata": {
        "colab": {
          "base_uri": "https://localhost:8080/"
        },
        "id": "dNWs-QRi__9A",
        "outputId": "a8c4f9a4-ce38-49fe-a9c2-cfe8e8ecf7a8"
      },
      "id": "dNWs-QRi__9A",
      "execution_count": null,
      "outputs": [
        {
          "output_type": "execute_result",
          "data": {
            "text/plain": [
              "dtype('O')"
            ]
          },
          "metadata": {},
          "execution_count": 21
        }
      ]
    },
    {
      "cell_type": "markdown",
      "source": [
        "Looks like we'll need to turn our index into a date type and change the frequency to weekly\n",
        "\n",
        "<details>\n",
        "<summary>Hint</summary>\n",
        "\n",
        "You can't use pd.to_datetime on the index directly, you'll need to:\n",
        "- create a new column based on the index values\n",
        "- make that column a datetime\n",
        "- replace the index with the new values!\n",
        "\n",
        "For swapping the frequency, let's look at the documentation here: [to_period()](https://pandas.pydata.org/docs/reference/api/pandas.DataFrame.to_period.html)\n",
        "\n",
        "</details>"
      ],
      "metadata": {
        "id": "--Xw36pKvFjW"
      },
      "id": "--Xw36pKvFjW"
    },
    {
      "cell_type": "code",
      "source": [
        "# Create a new column 'date' containing the df.index cast into datetime format\n",
        "df['date'] = pd.to_datetime(df.index)\n",
        "\n",
        "# set index with date column values\n",
        "df.index = df['date'].values\n",
        "\n",
        "# make index periodic\n",
        "df.index = df.index.to_period()\n",
        "df"
      ],
      "metadata": {
        "colab": {
          "base_uri": "https://localhost:8080/",
          "height": 964
        },
        "id": "IzI1HeGYf_cD",
        "outputId": "2381448f-c2a2-4c4f-d558-54a20e641f3c"
      },
      "id": "IzI1HeGYf_cD",
      "execution_count": null,
      "outputs": [
        {
          "output_type": "execute_result",
          "data": {
            "text/plain": [
              "                       shoes_laceup  body_spaghettistraps  \\\n",
              "2014-12-30/2015-01-05      0.059474              0.001604   \n",
              "2015-01-06/2015-01-12      0.071067              0.001621   \n",
              "2015-01-13/2015-01-19      0.077554              0.001157   \n",
              "2015-01-20/2015-01-26      0.061715              0.001067   \n",
              "2015-01-27/2015-02-02      0.060737              0.001118   \n",
              "...                             ...                   ...   \n",
              "2018-11-27/2018-12-03      0.078668              0.001051   \n",
              "2018-12-04/2018-12-10      0.074110              0.001052   \n",
              "2018-12-11/2018-12-17      0.070240              0.001269   \n",
              "2018-12-18/2018-12-24      0.066915              0.001168   \n",
              "2018-12-25/2018-12-31      0.068989              0.000885   \n",
              "\n",
              "                       top_tanksleeve_tshirtneck  pants_denim  \\\n",
              "2014-12-30/2015-01-05                   0.002377     0.024241   \n",
              "2015-01-06/2015-01-12                   0.001561     0.023861   \n",
              "2015-01-13/2015-01-19                   0.001768     0.027625   \n",
              "2015-01-20/2015-01-26                   0.002447     0.029950   \n",
              "2015-01-27/2015-02-02                   0.001854     0.030590   \n",
              "...                                          ...          ...   \n",
              "2018-11-27/2018-12-03                   0.000307     0.035552   \n",
              "2018-12-04/2018-12-10                   0.000000     0.034290   \n",
              "2018-12-11/2018-12-17                   0.000000     0.034198   \n",
              "2018-12-18/2018-12-24                   0.000000     0.034580   \n",
              "2018-12-25/2018-12-31                   0.000102     0.031646   \n",
              "\n",
              "                       eyewear_squaredglassesshape       date  \n",
              "2014-12-30/2015-01-05                     0.002614 2015-01-05  \n",
              "2015-01-06/2015-01-12                     0.003187 2015-01-12  \n",
              "2015-01-13/2015-01-19                     0.002160 2015-01-19  \n",
              "2015-01-20/2015-01-26                     0.002032 2015-01-26  \n",
              "2015-01-27/2015-02-02                     0.003329 2015-02-02  \n",
              "...                                            ...        ...  \n",
              "2018-11-27/2018-12-03                     0.000528 2018-12-03  \n",
              "2018-12-04/2018-12-10                     0.000748 2018-12-10  \n",
              "2018-12-11/2018-12-17                     0.000460 2018-12-17  \n",
              "2018-12-18/2018-12-24                     0.000825 2018-12-24  \n",
              "2018-12-25/2018-12-31                     0.000765 2018-12-31  \n",
              "\n",
              "[209 rows x 6 columns]"
            ],
            "text/html": [
              "\n",
              "  <div id=\"df-06cda78e-9904-4b99-805e-6d4fe15fa846\" class=\"colab-df-container\">\n",
              "    <div>\n",
              "<style scoped>\n",
              "    .dataframe tbody tr th:only-of-type {\n",
              "        vertical-align: middle;\n",
              "    }\n",
              "\n",
              "    .dataframe tbody tr th {\n",
              "        vertical-align: top;\n",
              "    }\n",
              "\n",
              "    .dataframe thead th {\n",
              "        text-align: right;\n",
              "    }\n",
              "</style>\n",
              "<table border=\"1\" class=\"dataframe\">\n",
              "  <thead>\n",
              "    <tr style=\"text-align: right;\">\n",
              "      <th></th>\n",
              "      <th>shoes_laceup</th>\n",
              "      <th>body_spaghettistraps</th>\n",
              "      <th>top_tanksleeve_tshirtneck</th>\n",
              "      <th>pants_denim</th>\n",
              "      <th>eyewear_squaredglassesshape</th>\n",
              "      <th>date</th>\n",
              "    </tr>\n",
              "  </thead>\n",
              "  <tbody>\n",
              "    <tr>\n",
              "      <th>2014-12-30/2015-01-05</th>\n",
              "      <td>0.059474</td>\n",
              "      <td>0.001604</td>\n",
              "      <td>0.002377</td>\n",
              "      <td>0.024241</td>\n",
              "      <td>0.002614</td>\n",
              "      <td>2015-01-05</td>\n",
              "    </tr>\n",
              "    <tr>\n",
              "      <th>2015-01-06/2015-01-12</th>\n",
              "      <td>0.071067</td>\n",
              "      <td>0.001621</td>\n",
              "      <td>0.001561</td>\n",
              "      <td>0.023861</td>\n",
              "      <td>0.003187</td>\n",
              "      <td>2015-01-12</td>\n",
              "    </tr>\n",
              "    <tr>\n",
              "      <th>2015-01-13/2015-01-19</th>\n",
              "      <td>0.077554</td>\n",
              "      <td>0.001157</td>\n",
              "      <td>0.001768</td>\n",
              "      <td>0.027625</td>\n",
              "      <td>0.002160</td>\n",
              "      <td>2015-01-19</td>\n",
              "    </tr>\n",
              "    <tr>\n",
              "      <th>2015-01-20/2015-01-26</th>\n",
              "      <td>0.061715</td>\n",
              "      <td>0.001067</td>\n",
              "      <td>0.002447</td>\n",
              "      <td>0.029950</td>\n",
              "      <td>0.002032</td>\n",
              "      <td>2015-01-26</td>\n",
              "    </tr>\n",
              "    <tr>\n",
              "      <th>2015-01-27/2015-02-02</th>\n",
              "      <td>0.060737</td>\n",
              "      <td>0.001118</td>\n",
              "      <td>0.001854</td>\n",
              "      <td>0.030590</td>\n",
              "      <td>0.003329</td>\n",
              "      <td>2015-02-02</td>\n",
              "    </tr>\n",
              "    <tr>\n",
              "      <th>...</th>\n",
              "      <td>...</td>\n",
              "      <td>...</td>\n",
              "      <td>...</td>\n",
              "      <td>...</td>\n",
              "      <td>...</td>\n",
              "      <td>...</td>\n",
              "    </tr>\n",
              "    <tr>\n",
              "      <th>2018-11-27/2018-12-03</th>\n",
              "      <td>0.078668</td>\n",
              "      <td>0.001051</td>\n",
              "      <td>0.000307</td>\n",
              "      <td>0.035552</td>\n",
              "      <td>0.000528</td>\n",
              "      <td>2018-12-03</td>\n",
              "    </tr>\n",
              "    <tr>\n",
              "      <th>2018-12-04/2018-12-10</th>\n",
              "      <td>0.074110</td>\n",
              "      <td>0.001052</td>\n",
              "      <td>0.000000</td>\n",
              "      <td>0.034290</td>\n",
              "      <td>0.000748</td>\n",
              "      <td>2018-12-10</td>\n",
              "    </tr>\n",
              "    <tr>\n",
              "      <th>2018-12-11/2018-12-17</th>\n",
              "      <td>0.070240</td>\n",
              "      <td>0.001269</td>\n",
              "      <td>0.000000</td>\n",
              "      <td>0.034198</td>\n",
              "      <td>0.000460</td>\n",
              "      <td>2018-12-17</td>\n",
              "    </tr>\n",
              "    <tr>\n",
              "      <th>2018-12-18/2018-12-24</th>\n",
              "      <td>0.066915</td>\n",
              "      <td>0.001168</td>\n",
              "      <td>0.000000</td>\n",
              "      <td>0.034580</td>\n",
              "      <td>0.000825</td>\n",
              "      <td>2018-12-24</td>\n",
              "    </tr>\n",
              "    <tr>\n",
              "      <th>2018-12-25/2018-12-31</th>\n",
              "      <td>0.068989</td>\n",
              "      <td>0.000885</td>\n",
              "      <td>0.000102</td>\n",
              "      <td>0.031646</td>\n",
              "      <td>0.000765</td>\n",
              "      <td>2018-12-31</td>\n",
              "    </tr>\n",
              "  </tbody>\n",
              "</table>\n",
              "<p>209 rows × 6 columns</p>\n",
              "</div>\n",
              "    <div class=\"colab-df-buttons\">\n",
              "\n",
              "  <div class=\"colab-df-container\">\n",
              "    <button class=\"colab-df-convert\" onclick=\"convertToInteractive('df-06cda78e-9904-4b99-805e-6d4fe15fa846')\"\n",
              "            title=\"Convert this dataframe to an interactive table.\"\n",
              "            style=\"display:none;\">\n",
              "\n",
              "  <svg xmlns=\"http://www.w3.org/2000/svg\" height=\"24px\" viewBox=\"0 -960 960 960\">\n",
              "    <path d=\"M120-120v-720h720v720H120Zm60-500h600v-160H180v160Zm220 220h160v-160H400v160Zm0 220h160v-160H400v160ZM180-400h160v-160H180v160Zm440 0h160v-160H620v160ZM180-180h160v-160H180v160Zm440 0h160v-160H620v160Z\"/>\n",
              "  </svg>\n",
              "    </button>\n",
              "\n",
              "  <style>\n",
              "    .colab-df-container {\n",
              "      display:flex;\n",
              "      gap: 12px;\n",
              "    }\n",
              "\n",
              "    .colab-df-convert {\n",
              "      background-color: #E8F0FE;\n",
              "      border: none;\n",
              "      border-radius: 50%;\n",
              "      cursor: pointer;\n",
              "      display: none;\n",
              "      fill: #1967D2;\n",
              "      height: 32px;\n",
              "      padding: 0 0 0 0;\n",
              "      width: 32px;\n",
              "    }\n",
              "\n",
              "    .colab-df-convert:hover {\n",
              "      background-color: #E2EBFA;\n",
              "      box-shadow: 0px 1px 2px rgba(60, 64, 67, 0.3), 0px 1px 3px 1px rgba(60, 64, 67, 0.15);\n",
              "      fill: #174EA6;\n",
              "    }\n",
              "\n",
              "    .colab-df-buttons div {\n",
              "      margin-bottom: 4px;\n",
              "    }\n",
              "\n",
              "    [theme=dark] .colab-df-convert {\n",
              "      background-color: #3B4455;\n",
              "      fill: #D2E3FC;\n",
              "    }\n",
              "\n",
              "    [theme=dark] .colab-df-convert:hover {\n",
              "      background-color: #434B5C;\n",
              "      box-shadow: 0px 1px 3px 1px rgba(0, 0, 0, 0.15);\n",
              "      filter: drop-shadow(0px 1px 2px rgba(0, 0, 0, 0.3));\n",
              "      fill: #FFFFFF;\n",
              "    }\n",
              "  </style>\n",
              "\n",
              "    <script>\n",
              "      const buttonEl =\n",
              "        document.querySelector('#df-06cda78e-9904-4b99-805e-6d4fe15fa846 button.colab-df-convert');\n",
              "      buttonEl.style.display =\n",
              "        google.colab.kernel.accessAllowed ? 'block' : 'none';\n",
              "\n",
              "      async function convertToInteractive(key) {\n",
              "        const element = document.querySelector('#df-06cda78e-9904-4b99-805e-6d4fe15fa846');\n",
              "        const dataTable =\n",
              "          await google.colab.kernel.invokeFunction('convertToInteractive',\n",
              "                                                    [key], {});\n",
              "        if (!dataTable) return;\n",
              "\n",
              "        const docLinkHtml = 'Like what you see? Visit the ' +\n",
              "          '<a target=\"_blank\" href=https://colab.research.google.com/notebooks/data_table.ipynb>data table notebook</a>'\n",
              "          + ' to learn more about interactive tables.';\n",
              "        element.innerHTML = '';\n",
              "        dataTable['output_type'] = 'display_data';\n",
              "        await google.colab.output.renderOutput(dataTable, element);\n",
              "        const docLink = document.createElement('div');\n",
              "        docLink.innerHTML = docLinkHtml;\n",
              "        element.appendChild(docLink);\n",
              "      }\n",
              "    </script>\n",
              "  </div>\n",
              "\n",
              "\n",
              "<div id=\"df-5cf3da2c-529d-4537-8b22-213f049ed190\">\n",
              "  <button class=\"colab-df-quickchart\" onclick=\"quickchart('df-5cf3da2c-529d-4537-8b22-213f049ed190')\"\n",
              "            title=\"Suggest charts\"\n",
              "            style=\"display:none;\">\n",
              "\n",
              "<svg xmlns=\"http://www.w3.org/2000/svg\" height=\"24px\"viewBox=\"0 0 24 24\"\n",
              "     width=\"24px\">\n",
              "    <g>\n",
              "        <path d=\"M19 3H5c-1.1 0-2 .9-2 2v14c0 1.1.9 2 2 2h14c1.1 0 2-.9 2-2V5c0-1.1-.9-2-2-2zM9 17H7v-7h2v7zm4 0h-2V7h2v10zm4 0h-2v-4h2v4z\"/>\n",
              "    </g>\n",
              "</svg>\n",
              "  </button>\n",
              "\n",
              "<style>\n",
              "  .colab-df-quickchart {\n",
              "      --bg-color: #E8F0FE;\n",
              "      --fill-color: #1967D2;\n",
              "      --hover-bg-color: #E2EBFA;\n",
              "      --hover-fill-color: #174EA6;\n",
              "      --disabled-fill-color: #AAA;\n",
              "      --disabled-bg-color: #DDD;\n",
              "  }\n",
              "\n",
              "  [theme=dark] .colab-df-quickchart {\n",
              "      --bg-color: #3B4455;\n",
              "      --fill-color: #D2E3FC;\n",
              "      --hover-bg-color: #434B5C;\n",
              "      --hover-fill-color: #FFFFFF;\n",
              "      --disabled-bg-color: #3B4455;\n",
              "      --disabled-fill-color: #666;\n",
              "  }\n",
              "\n",
              "  .colab-df-quickchart {\n",
              "    background-color: var(--bg-color);\n",
              "    border: none;\n",
              "    border-radius: 50%;\n",
              "    cursor: pointer;\n",
              "    display: none;\n",
              "    fill: var(--fill-color);\n",
              "    height: 32px;\n",
              "    padding: 0;\n",
              "    width: 32px;\n",
              "  }\n",
              "\n",
              "  .colab-df-quickchart:hover {\n",
              "    background-color: var(--hover-bg-color);\n",
              "    box-shadow: 0 1px 2px rgba(60, 64, 67, 0.3), 0 1px 3px 1px rgba(60, 64, 67, 0.15);\n",
              "    fill: var(--button-hover-fill-color);\n",
              "  }\n",
              "\n",
              "  .colab-df-quickchart-complete:disabled,\n",
              "  .colab-df-quickchart-complete:disabled:hover {\n",
              "    background-color: var(--disabled-bg-color);\n",
              "    fill: var(--disabled-fill-color);\n",
              "    box-shadow: none;\n",
              "  }\n",
              "\n",
              "  .colab-df-spinner {\n",
              "    border: 2px solid var(--fill-color);\n",
              "    border-color: transparent;\n",
              "    border-bottom-color: var(--fill-color);\n",
              "    animation:\n",
              "      spin 1s steps(1) infinite;\n",
              "  }\n",
              "\n",
              "  @keyframes spin {\n",
              "    0% {\n",
              "      border-color: transparent;\n",
              "      border-bottom-color: var(--fill-color);\n",
              "      border-left-color: var(--fill-color);\n",
              "    }\n",
              "    20% {\n",
              "      border-color: transparent;\n",
              "      border-left-color: var(--fill-color);\n",
              "      border-top-color: var(--fill-color);\n",
              "    }\n",
              "    30% {\n",
              "      border-color: transparent;\n",
              "      border-left-color: var(--fill-color);\n",
              "      border-top-color: var(--fill-color);\n",
              "      border-right-color: var(--fill-color);\n",
              "    }\n",
              "    40% {\n",
              "      border-color: transparent;\n",
              "      border-right-color: var(--fill-color);\n",
              "      border-top-color: var(--fill-color);\n",
              "    }\n",
              "    60% {\n",
              "      border-color: transparent;\n",
              "      border-right-color: var(--fill-color);\n",
              "    }\n",
              "    80% {\n",
              "      border-color: transparent;\n",
              "      border-right-color: var(--fill-color);\n",
              "      border-bottom-color: var(--fill-color);\n",
              "    }\n",
              "    90% {\n",
              "      border-color: transparent;\n",
              "      border-bottom-color: var(--fill-color);\n",
              "    }\n",
              "  }\n",
              "</style>\n",
              "\n",
              "  <script>\n",
              "    async function quickchart(key) {\n",
              "      const quickchartButtonEl =\n",
              "        document.querySelector('#' + key + ' button');\n",
              "      quickchartButtonEl.disabled = true;  // To prevent multiple clicks.\n",
              "      quickchartButtonEl.classList.add('colab-df-spinner');\n",
              "      try {\n",
              "        const charts = await google.colab.kernel.invokeFunction(\n",
              "            'suggestCharts', [key], {});\n",
              "      } catch (error) {\n",
              "        console.error('Error during call to suggestCharts:', error);\n",
              "      }\n",
              "      quickchartButtonEl.classList.remove('colab-df-spinner');\n",
              "      quickchartButtonEl.classList.add('colab-df-quickchart-complete');\n",
              "    }\n",
              "    (() => {\n",
              "      let quickchartButtonEl =\n",
              "        document.querySelector('#df-5cf3da2c-529d-4537-8b22-213f049ed190 button');\n",
              "      quickchartButtonEl.style.display =\n",
              "        google.colab.kernel.accessAllowed ? 'block' : 'none';\n",
              "    })();\n",
              "  </script>\n",
              "</div>\n",
              "\n",
              "  <div id=\"id_8529e734-b994-4b74-b594-f6fe5f10da20\">\n",
              "    <style>\n",
              "      .colab-df-generate {\n",
              "        background-color: #E8F0FE;\n",
              "        border: none;\n",
              "        border-radius: 50%;\n",
              "        cursor: pointer;\n",
              "        display: none;\n",
              "        fill: #1967D2;\n",
              "        height: 32px;\n",
              "        padding: 0 0 0 0;\n",
              "        width: 32px;\n",
              "      }\n",
              "\n",
              "      .colab-df-generate:hover {\n",
              "        background-color: #E2EBFA;\n",
              "        box-shadow: 0px 1px 2px rgba(60, 64, 67, 0.3), 0px 1px 3px 1px rgba(60, 64, 67, 0.15);\n",
              "        fill: #174EA6;\n",
              "      }\n",
              "\n",
              "      [theme=dark] .colab-df-generate {\n",
              "        background-color: #3B4455;\n",
              "        fill: #D2E3FC;\n",
              "      }\n",
              "\n",
              "      [theme=dark] .colab-df-generate:hover {\n",
              "        background-color: #434B5C;\n",
              "        box-shadow: 0px 1px 3px 1px rgba(0, 0, 0, 0.15);\n",
              "        filter: drop-shadow(0px 1px 2px rgba(0, 0, 0, 0.3));\n",
              "        fill: #FFFFFF;\n",
              "      }\n",
              "    </style>\n",
              "    <button class=\"colab-df-generate\" onclick=\"generateWithVariable('df')\"\n",
              "            title=\"Generate code using this dataframe.\"\n",
              "            style=\"display:none;\">\n",
              "\n",
              "  <svg xmlns=\"http://www.w3.org/2000/svg\" height=\"24px\"viewBox=\"0 0 24 24\"\n",
              "       width=\"24px\">\n",
              "    <path d=\"M7,19H8.4L18.45,9,17,7.55,7,17.6ZM5,21V16.75L18.45,3.32a2,2,0,0,1,2.83,0l1.4,1.43a1.91,1.91,0,0,1,.58,1.4,1.91,1.91,0,0,1-.58,1.4L9.25,21ZM18.45,9,17,7.55Zm-12,3A5.31,5.31,0,0,0,4.9,8.1,5.31,5.31,0,0,0,1,6.5,5.31,5.31,0,0,0,4.9,4.9,5.31,5.31,0,0,0,6.5,1,5.31,5.31,0,0,0,8.1,4.9,5.31,5.31,0,0,0,12,6.5,5.46,5.46,0,0,0,6.5,12Z\"/>\n",
              "  </svg>\n",
              "    </button>\n",
              "    <script>\n",
              "      (() => {\n",
              "      const buttonEl =\n",
              "        document.querySelector('#id_8529e734-b994-4b74-b594-f6fe5f10da20 button.colab-df-generate');\n",
              "      buttonEl.style.display =\n",
              "        google.colab.kernel.accessAllowed ? 'block' : 'none';\n",
              "\n",
              "      buttonEl.onclick = () => {\n",
              "        google.colab.notebook.generateWithVariable('df');\n",
              "      }\n",
              "      })();\n",
              "    </script>\n",
              "  </div>\n",
              "\n",
              "    </div>\n",
              "  </div>\n"
            ],
            "application/vnd.google.colaboratory.intrinsic+json": {
              "type": "dataframe",
              "variable_name": "df",
              "summary": "{\n  \"name\": \"df\",\n  \"rows\": 209,\n  \"fields\": [\n    {\n      \"column\": \"shoes_laceup\",\n      \"properties\": {\n        \"dtype\": \"number\",\n        \"std\": 0.010097231898946558,\n        \"min\": 0.0461078002018054,\n        \"max\": 0.0970431844992516,\n        \"num_unique_values\": 209,\n        \"samples\": [\n          0.0521979421168048,\n          0.0896089112613032,\n          0.0576829529609584\n        ],\n        \"semantic_type\": \"\",\n        \"description\": \"\"\n      }\n    },\n    {\n      \"column\": \"body_spaghettistraps\",\n      \"properties\": {\n        \"dtype\": \"number\",\n        \"std\": 0.0010758851647591798,\n        \"min\": 0.0004382579455623,\n        \"max\": 0.0062464762664193,\n        \"num_unique_values\": 209,\n        \"samples\": [\n          0.0021492680657173,\n          0.0018792560657082,\n          0.0033058877414156\n        ],\n        \"semantic_type\": \"\",\n        \"description\": \"\"\n      }\n    },\n    {\n      \"column\": \"top_tanksleeve_tshirtneck\",\n      \"properties\": {\n        \"dtype\": \"number\",\n        \"std\": 0.0011822229601369824,\n        \"min\": 0.0,\n        \"max\": 0.0054458466238861,\n        \"num_unique_values\": 207,\n        \"samples\": [\n          0.0004353400557386,\n          0.0024616323535892,\n          0.003166857327545\n        ],\n        \"semantic_type\": \"\",\n        \"description\": \"\"\n      }\n    },\n    {\n      \"column\": \"pants_denim\",\n      \"properties\": {\n        \"dtype\": \"number\",\n        \"std\": 0.006671796056648132,\n        \"min\": 0.0167406692040414,\n        \"max\": 0.0497318373759348,\n        \"num_unique_values\": 209,\n        \"samples\": [\n          0.0195651815288548,\n          0.0435971372637202,\n          0.0221355017257083\n        ],\n        \"semantic_type\": \"\",\n        \"description\": \"\"\n      }\n    },\n    {\n      \"column\": \"eyewear_squaredglassesshape\",\n      \"properties\": {\n        \"dtype\": \"number\",\n        \"std\": 0.0007082599279437865,\n        \"min\": 0.0004596296195253,\n        \"max\": 0.0048579478685786,\n        \"num_unique_values\": 209,\n        \"samples\": [\n          0.002905431081985,\n          0.0013289853423829,\n          0.0024262173646744\n        ],\n        \"semantic_type\": \"\",\n        \"description\": \"\"\n      }\n    },\n    {\n      \"column\": \"date\",\n      \"properties\": {\n        \"dtype\": \"date\",\n        \"min\": \"2015-01-05 00:00:00\",\n        \"max\": \"2018-12-31 00:00:00\",\n        \"num_unique_values\": 209,\n        \"samples\": [\n          \"2015-08-03 00:00:00\",\n          \"2018-04-16 00:00:00\",\n          \"2016-08-15 00:00:00\"\n        ],\n        \"semantic_type\": \"\",\n        \"description\": \"\"\n      }\n    }\n  ]\n}"
            }
          },
          "metadata": {},
          "execution_count": 22
        }
      ]
    },
    {
      "cell_type": "code",
      "source": [
        "df.drop(columns=['date'], inplace=True)"
      ],
      "metadata": {
        "id": "5c4MIAaaxsPE"
      },
      "id": "5c4MIAaaxsPE",
      "execution_count": null,
      "outputs": []
    },
    {
      "cell_type": "markdown",
      "id": "e594858a-2443-424d-86ab-97be73cc9104",
      "metadata": {
        "id": "e594858a-2443-424d-86ab-97be73cc9104"
      },
      "source": [
        "b) Now we'll need to split the train and test data. We will use the last year of data as our test set (`df_test`) and the rest for training (`df_train`).\n",
        "\n",
        "We're going to use the `temporal_train_test_split` method. What should you put in the `test_size` parameter?"
      ]
    },
    {
      "cell_type": "code",
      "source": [
        "!pip install sktime dask[dataframe] -q"
      ],
      "metadata": {
        "id": "r84J_TkUxGDU",
        "colab": {
          "base_uri": "https://localhost:8080/"
        },
        "outputId": "052be3a7-2874-4256-cb0f-925734b0ae65"
      },
      "id": "r84J_TkUxGDU",
      "execution_count": null,
      "outputs": [
        {
          "output_type": "stream",
          "name": "stdout",
          "text": [
            "\u001b[2K   \u001b[90m━━━━━━━━━━━━━━━━━━━━━━━━━━━━━━━━━━━━━━━━\u001b[0m \u001b[32m35.5/35.5 MB\u001b[0m \u001b[31m52.6 MB/s\u001b[0m eta \u001b[36m0:00:00\u001b[0m\n",
            "\u001b[2K   \u001b[90m━━━━━━━━━━━━━━━━━━━━━━━━━━━━━━━━━━━━━━━━\u001b[0m \u001b[32m145.7/145.7 kB\u001b[0m \u001b[31m9.2 MB/s\u001b[0m eta \u001b[36m0:00:00\u001b[0m\n",
            "\u001b[?25h"
          ]
        }
      ]
    },
    {
      "cell_type": "code",
      "execution_count": null,
      "id": "2f5a50e8-b879-41c6-9f65-4df1d795a724",
      "metadata": {
        "id": "2f5a50e8-b879-41c6-9f65-4df1d795a724",
        "colab": {
          "base_uri": "https://localhost:8080/"
        },
        "outputId": "871d55a4-4dea-407f-ba13-1d9b428379ac"
      },
      "outputs": [
        {
          "output_type": "stream",
          "name": "stdout",
          "text": [
            "Train length: (157, 5)\n",
            "Test length: (52, 5)\n"
          ]
        }
      ],
      "source": [
        "from sktime.forecasting.model_selection import temporal_train_test_split\n",
        "\n",
        "# 52 weeks = 1 year\n",
        "df_train, df_test = temporal_train_test_split(df, test_size=52)\n",
        "\n",
        "print(\"Train length:\", df_train.shape)\n",
        "print(\"Test length:\", df_test.shape)"
      ]
    },
    {
      "cell_type": "markdown",
      "id": "d2979a95-e862-4e01-b5f7-3de76647d6d1",
      "metadata": {
        "id": "d2979a95-e862-4e01-b5f7-3de76647d6d1"
      },
      "source": [
        "## Modeling"
      ]
    },
    {
      "cell_type": "markdown",
      "source": [
        "### Modeling - Naive"
      ],
      "metadata": {
        "id": "uO9TzRACCQBR"
      },
      "id": "uO9TzRACCQBR"
    },
    {
      "cell_type": "markdown",
      "id": "9f48aade-5214-47c5-be43-0fa273cd1edc",
      "metadata": {
        "id": "9f48aade-5214-47c5-be43-0fa273cd1edc"
      },
      "source": [
        "For simplicity, we will restrict ourselves in this section to the time serie `top_tanksleeve_tshirtneck`."
      ]
    },
    {
      "cell_type": "markdown",
      "id": "2d14c550-8773-482e-8e6f-47fddf646aa5",
      "metadata": {
        "id": "2d14c550-8773-482e-8e6f-47fddf646aa5"
      },
      "source": [
        "a) Train a naive model by using `NaiveForecaster` of sktime library.\n",
        "\n",
        "Predict last year values and store results in a `naive_preds` variable."
      ]
    },
    {
      "cell_type": "code",
      "execution_count": null,
      "id": "962fcd11-5938-42b0-afe8-5957c54f7ae1",
      "metadata": {
        "id": "962fcd11-5938-42b0-afe8-5957c54f7ae1"
      },
      "outputs": [],
      "source": [
        "from sktime.forecasting.naive import NaiveForecaster\n",
        "\n",
        "cloth = 'top_tanksleeve_tshirtneck'\n",
        "\n",
        "# intialize model with a `sp` parameter\n",
        "naive_model = NaiveForecaster(sp=52)\n",
        "# fit model\n",
        "naive_model.fit(df_train[cloth])\n",
        "# predict last year values, use list(range(1,53)) to create a list [1,2,...,52]\n",
        "naive_preds = naive_model.predict(fh=list(range(1,53)))"
      ]
    },
    {
      "cell_type": "markdown",
      "source": [
        "b) In `df_test` variable, create a new column `naive_model` with naive predictions values.\n",
        "\n",
        "Visualize predicted and real data with plotly express (y parameter of px.line() function can be a list of columns names)"
      ],
      "metadata": {
        "id": "x1rNZdm95Vw8"
      },
      "id": "x1rNZdm95Vw8"
    },
    {
      "cell_type": "code",
      "source": [
        "# create a new column \"naive_model\" with naive predictions\n",
        "df_test[\"naive_model\"] = naive_preds\n",
        "\n",
        "# visualize data\n",
        "fig = px.line(df_test, y=[cloth, \"naive_model\"])\n",
        "fig.show()"
      ],
      "metadata": {
        "colab": {
          "base_uri": "https://localhost:8080/",
          "height": 685
        },
        "id": "McxbogR26PQH",
        "outputId": "bdf1206f-b6d6-49a1-8b8f-abfa5e81e0c2"
      },
      "id": "McxbogR26PQH",
      "execution_count": null,
      "outputs": [
        {
          "output_type": "stream",
          "name": "stderr",
          "text": [
            "/tmp/ipython-input-2186550285.py:2: SettingWithCopyWarning:\n",
            "\n",
            "\n",
            "A value is trying to be set on a copy of a slice from a DataFrame.\n",
            "Try using .loc[row_indexer,col_indexer] = value instead\n",
            "\n",
            "See the caveats in the documentation: https://pandas.pydata.org/pandas-docs/stable/user_guide/indexing.html#returning-a-view-versus-a-copy\n",
            "\n"
          ]
        },
        {
          "output_type": "display_data",
          "data": {
            "text/html": [
              "<html>\n",
              "<head><meta charset=\"utf-8\" /></head>\n",
              "<body>\n",
              "    <div>            <script src=\"https://cdnjs.cloudflare.com/ajax/libs/mathjax/2.7.5/MathJax.js?config=TeX-AMS-MML_SVG\"></script><script type=\"text/javascript\">if (window.MathJax && window.MathJax.Hub && window.MathJax.Hub.Config) {window.MathJax.Hub.Config({SVG: {font: \"STIX-Web\"}});}</script>                <script type=\"text/javascript\">window.PlotlyConfig = {MathJaxConfig: 'local'};</script>\n",
              "        <script charset=\"utf-8\" src=\"https://cdn.plot.ly/plotly-2.35.2.min.js\"></script>                <div id=\"2ec397b3-c0b3-4b24-a615-2fd1a08c7cea\" class=\"plotly-graph-div\" style=\"height:525px; width:100%;\"></div>            <script type=\"text/javascript\">                                    window.PLOTLYENV=window.PLOTLYENV || {};                                    if (document.getElementById(\"2ec397b3-c0b3-4b24-a615-2fd1a08c7cea\")) {                    Plotly.newPlot(                        \"2ec397b3-c0b3-4b24-a615-2fd1a08c7cea\",                        [{\"hovertemplate\":\"variable=top_tanksleeve_tshirtneck\\u003cbr\\u003eindex=%{x}\\u003cbr\\u003evalue=%{y}\\u003cextra\\u003e\\u003c\\u002fextra\\u003e\",\"legendgroup\":\"top_tanksleeve_tshirtneck\",\"line\":{\"color\":\"#636efa\",\"dash\":\"solid\"},\"marker\":{\"symbol\":\"circle\"},\"mode\":\"lines\",\"name\":\"top_tanksleeve_tshirtneck\",\"orientation\":\"v\",\"showlegend\":true,\"x\":[\"2018-01-07T00:00:00\",\"2018-01-14T00:00:00\",\"2018-01-21T00:00:00\",\"2018-01-28T00:00:00\",\"2018-02-04T00:00:00\",\"2018-02-11T00:00:00\",\"2018-02-18T00:00:00\",\"2018-02-25T00:00:00\",\"2018-03-04T00:00:00\",\"2018-03-11T00:00:00\",\"2018-03-18T00:00:00\",\"2018-03-25T00:00:00\",\"2018-04-01T00:00:00\",\"2018-04-08T00:00:00\",\"2018-04-15T00:00:00\",\"2018-04-22T00:00:00\",\"2018-04-29T00:00:00\",\"2018-05-06T00:00:00\",\"2018-05-13T00:00:00\",\"2018-05-20T00:00:00\",\"2018-05-27T00:00:00\",\"2018-06-03T00:00:00\",\"2018-06-10T00:00:00\",\"2018-06-17T00:00:00\",\"2018-06-24T00:00:00\",\"2018-07-01T00:00:00\",\"2018-07-08T00:00:00\",\"2018-07-15T00:00:00\",\"2018-07-22T00:00:00\",\"2018-07-29T00:00:00\",\"2018-08-05T00:00:00\",\"2018-08-12T00:00:00\",\"2018-08-19T00:00:00\",\"2018-08-26T00:00:00\",\"2018-09-02T00:00:00\",\"2018-09-09T00:00:00\",\"2018-09-16T00:00:00\",\"2018-09-23T00:00:00\",\"2018-09-30T00:00:00\",\"2018-10-07T00:00:00\",\"2018-10-14T00:00:00\",\"2018-10-21T00:00:00\",\"2018-10-28T00:00:00\",\"2018-11-04T00:00:00\",\"2018-11-11T00:00:00\",\"2018-11-18T00:00:00\",\"2018-11-25T00:00:00\",\"2018-12-02T00:00:00\",\"2018-12-09T00:00:00\",\"2018-12-16T00:00:00\",\"2018-12-23T00:00:00\",\"2018-12-30T00:00:00\"],\"xaxis\":\"x\",\"y\":[0.0008917368398734,0.0002266305957333,0.0004297263771742,0.0003456731415996,0.0004353400557386,0.000673327161533,0.0006658554121827,0.0004463771299902,0.000945098012378,0.0009494561506204,0.0007750037111658,0.0005086953601928,0.0008657099169285,0.001307085075266,0.0020355829259168,0.0013853842264375,0.0016331682603321,0.0018987776804902,0.0022053843814326,0.0023671241804915,0.0022799144955723,0.0027608641408926,0.0015513011592594,0.0021925547455945,0.0028187090813989,0.0031749808180772,0.0028790112175041,0.0032664825374239,0.0031436862494573,0.0033930148474851,0.0033875685123944,0.0026453379115283,0.0032796310913308,0.0025173779882841,0.0025228019109455,0.0025040830336778,0.0020533857259461,0.0010306145348374,0.00128379431394,0.000663420340416,0.0005986115806579,0.0005807084018902,0.0007618455151797,0.000310736798668,0.0003843659651244,0.0003240563688279,0.0003114525593976,0.0003069344263844,0.0,0.0,0.0,0.0001017263260305],\"yaxis\":\"y\",\"type\":\"scatter\"},{\"hovertemplate\":\"variable=naive_model\\u003cbr\\u003eindex=%{x}\\u003cbr\\u003evalue=%{y}\\u003cextra\\u003e\\u003c\\u002fextra\\u003e\",\"legendgroup\":\"naive_model\",\"line\":{\"color\":\"#EF553B\",\"dash\":\"solid\"},\"marker\":{\"symbol\":\"circle\"},\"mode\":\"lines\",\"name\":\"naive_model\",\"orientation\":\"v\",\"showlegend\":true,\"x\":[\"2018-01-07T00:00:00\",\"2018-01-14T00:00:00\",\"2018-01-21T00:00:00\",\"2018-01-28T00:00:00\",\"2018-02-04T00:00:00\",\"2018-02-11T00:00:00\",\"2018-02-18T00:00:00\",\"2018-02-25T00:00:00\",\"2018-03-04T00:00:00\",\"2018-03-11T00:00:00\",\"2018-03-18T00:00:00\",\"2018-03-25T00:00:00\",\"2018-04-01T00:00:00\",\"2018-04-08T00:00:00\",\"2018-04-15T00:00:00\",\"2018-04-22T00:00:00\",\"2018-04-29T00:00:00\",\"2018-05-06T00:00:00\",\"2018-05-13T00:00:00\",\"2018-05-20T00:00:00\",\"2018-05-27T00:00:00\",\"2018-06-03T00:00:00\",\"2018-06-10T00:00:00\",\"2018-06-17T00:00:00\",\"2018-06-24T00:00:00\",\"2018-07-01T00:00:00\",\"2018-07-08T00:00:00\",\"2018-07-15T00:00:00\",\"2018-07-22T00:00:00\",\"2018-07-29T00:00:00\",\"2018-08-05T00:00:00\",\"2018-08-12T00:00:00\",\"2018-08-19T00:00:00\",\"2018-08-26T00:00:00\",\"2018-09-02T00:00:00\",\"2018-09-09T00:00:00\",\"2018-09-16T00:00:00\",\"2018-09-23T00:00:00\",\"2018-09-30T00:00:00\",\"2018-10-07T00:00:00\",\"2018-10-14T00:00:00\",\"2018-10-21T00:00:00\",\"2018-10-28T00:00:00\",\"2018-11-04T00:00:00\",\"2018-11-11T00:00:00\",\"2018-11-18T00:00:00\",\"2018-11-25T00:00:00\",\"2018-12-02T00:00:00\",\"2018-12-09T00:00:00\",\"2018-12-16T00:00:00\",\"2018-12-23T00:00:00\",\"2018-12-30T00:00:00\"],\"xaxis\":\"x\",\"y\":[0.0010756070980248,0.0006634802950889,0.0012937966043067,0.0010451381454917,0.0011778636824305,0.0016154445924526,0.0013167772601506,0.001069425642702,0.0017280712685452,0.0008703265068684,0.0015334648257435,0.0018591284067696,0.0012917272148307,0.0015582257965236,0.0015540918520303,0.0015826827729393,0.0018054964309023,0.0017077365177147,0.0022398701229184,0.002074141442191,0.0031197638676036,0.0028817418778765,0.0030021912269697,0.0039478129512011,0.003000955787765,0.0027177889364338,0.0031631655419792,0.0038957001337027,0.0030890236757743,0.0035057272348187,0.0029255974024685,0.0026280608317417,0.0022409817931081,0.0027223492313176,0.0022639711602691,0.0025226383208778,0.0019375649977518,0.0014980757278115,0.0010680848851236,0.0015666547939963,0.0005876110823874,0.0011490858072903,0.0003597489747599,0.0006379338476307,0.0007133858025094,0.0006847338048374,0.0004301963769655,0.0006845834933713,0.0005606907825767,0.0005159770778497,0.0005400183985976,0.000304748732659],\"yaxis\":\"y\",\"type\":\"scatter\"}],                        {\"template\":{\"data\":{\"histogram2dcontour\":[{\"type\":\"histogram2dcontour\",\"colorbar\":{\"outlinewidth\":0,\"ticks\":\"\"},\"colorscale\":[[0.0,\"#0d0887\"],[0.1111111111111111,\"#46039f\"],[0.2222222222222222,\"#7201a8\"],[0.3333333333333333,\"#9c179e\"],[0.4444444444444444,\"#bd3786\"],[0.5555555555555556,\"#d8576b\"],[0.6666666666666666,\"#ed7953\"],[0.7777777777777778,\"#fb9f3a\"],[0.8888888888888888,\"#fdca26\"],[1.0,\"#f0f921\"]]}],\"choropleth\":[{\"type\":\"choropleth\",\"colorbar\":{\"outlinewidth\":0,\"ticks\":\"\"}}],\"histogram2d\":[{\"type\":\"histogram2d\",\"colorbar\":{\"outlinewidth\":0,\"ticks\":\"\"},\"colorscale\":[[0.0,\"#0d0887\"],[0.1111111111111111,\"#46039f\"],[0.2222222222222222,\"#7201a8\"],[0.3333333333333333,\"#9c179e\"],[0.4444444444444444,\"#bd3786\"],[0.5555555555555556,\"#d8576b\"],[0.6666666666666666,\"#ed7953\"],[0.7777777777777778,\"#fb9f3a\"],[0.8888888888888888,\"#fdca26\"],[1.0,\"#f0f921\"]]}],\"heatmap\":[{\"type\":\"heatmap\",\"colorbar\":{\"outlinewidth\":0,\"ticks\":\"\"},\"colorscale\":[[0.0,\"#0d0887\"],[0.1111111111111111,\"#46039f\"],[0.2222222222222222,\"#7201a8\"],[0.3333333333333333,\"#9c179e\"],[0.4444444444444444,\"#bd3786\"],[0.5555555555555556,\"#d8576b\"],[0.6666666666666666,\"#ed7953\"],[0.7777777777777778,\"#fb9f3a\"],[0.8888888888888888,\"#fdca26\"],[1.0,\"#f0f921\"]]}],\"heatmapgl\":[{\"type\":\"heatmapgl\",\"colorbar\":{\"outlinewidth\":0,\"ticks\":\"\"},\"colorscale\":[[0.0,\"#0d0887\"],[0.1111111111111111,\"#46039f\"],[0.2222222222222222,\"#7201a8\"],[0.3333333333333333,\"#9c179e\"],[0.4444444444444444,\"#bd3786\"],[0.5555555555555556,\"#d8576b\"],[0.6666666666666666,\"#ed7953\"],[0.7777777777777778,\"#fb9f3a\"],[0.8888888888888888,\"#fdca26\"],[1.0,\"#f0f921\"]]}],\"contourcarpet\":[{\"type\":\"contourcarpet\",\"colorbar\":{\"outlinewidth\":0,\"ticks\":\"\"}}],\"contour\":[{\"type\":\"contour\",\"colorbar\":{\"outlinewidth\":0,\"ticks\":\"\"},\"colorscale\":[[0.0,\"#0d0887\"],[0.1111111111111111,\"#46039f\"],[0.2222222222222222,\"#7201a8\"],[0.3333333333333333,\"#9c179e\"],[0.4444444444444444,\"#bd3786\"],[0.5555555555555556,\"#d8576b\"],[0.6666666666666666,\"#ed7953\"],[0.7777777777777778,\"#fb9f3a\"],[0.8888888888888888,\"#fdca26\"],[1.0,\"#f0f921\"]]}],\"surface\":[{\"type\":\"surface\",\"colorbar\":{\"outlinewidth\":0,\"ticks\":\"\"},\"colorscale\":[[0.0,\"#0d0887\"],[0.1111111111111111,\"#46039f\"],[0.2222222222222222,\"#7201a8\"],[0.3333333333333333,\"#9c179e\"],[0.4444444444444444,\"#bd3786\"],[0.5555555555555556,\"#d8576b\"],[0.6666666666666666,\"#ed7953\"],[0.7777777777777778,\"#fb9f3a\"],[0.8888888888888888,\"#fdca26\"],[1.0,\"#f0f921\"]]}],\"mesh3d\":[{\"type\":\"mesh3d\",\"colorbar\":{\"outlinewidth\":0,\"ticks\":\"\"}}],\"scatter\":[{\"fillpattern\":{\"fillmode\":\"overlay\",\"size\":10,\"solidity\":0.2},\"type\":\"scatter\"}],\"parcoords\":[{\"type\":\"parcoords\",\"line\":{\"colorbar\":{\"outlinewidth\":0,\"ticks\":\"\"}}}],\"scatterpolargl\":[{\"type\":\"scatterpolargl\",\"marker\":{\"colorbar\":{\"outlinewidth\":0,\"ticks\":\"\"}}}],\"bar\":[{\"error_x\":{\"color\":\"#2a3f5f\"},\"error_y\":{\"color\":\"#2a3f5f\"},\"marker\":{\"line\":{\"color\":\"#E5ECF6\",\"width\":0.5},\"pattern\":{\"fillmode\":\"overlay\",\"size\":10,\"solidity\":0.2}},\"type\":\"bar\"}],\"scattergeo\":[{\"type\":\"scattergeo\",\"marker\":{\"colorbar\":{\"outlinewidth\":0,\"ticks\":\"\"}}}],\"scatterpolar\":[{\"type\":\"scatterpolar\",\"marker\":{\"colorbar\":{\"outlinewidth\":0,\"ticks\":\"\"}}}],\"histogram\":[{\"marker\":{\"pattern\":{\"fillmode\":\"overlay\",\"size\":10,\"solidity\":0.2}},\"type\":\"histogram\"}],\"scattergl\":[{\"type\":\"scattergl\",\"marker\":{\"colorbar\":{\"outlinewidth\":0,\"ticks\":\"\"}}}],\"scatter3d\":[{\"type\":\"scatter3d\",\"line\":{\"colorbar\":{\"outlinewidth\":0,\"ticks\":\"\"}},\"marker\":{\"colorbar\":{\"outlinewidth\":0,\"ticks\":\"\"}}}],\"scattermapbox\":[{\"type\":\"scattermapbox\",\"marker\":{\"colorbar\":{\"outlinewidth\":0,\"ticks\":\"\"}}}],\"scatterternary\":[{\"type\":\"scatterternary\",\"marker\":{\"colorbar\":{\"outlinewidth\":0,\"ticks\":\"\"}}}],\"scattercarpet\":[{\"type\":\"scattercarpet\",\"marker\":{\"colorbar\":{\"outlinewidth\":0,\"ticks\":\"\"}}}],\"carpet\":[{\"aaxis\":{\"endlinecolor\":\"#2a3f5f\",\"gridcolor\":\"white\",\"linecolor\":\"white\",\"minorgridcolor\":\"white\",\"startlinecolor\":\"#2a3f5f\"},\"baxis\":{\"endlinecolor\":\"#2a3f5f\",\"gridcolor\":\"white\",\"linecolor\":\"white\",\"minorgridcolor\":\"white\",\"startlinecolor\":\"#2a3f5f\"},\"type\":\"carpet\"}],\"table\":[{\"cells\":{\"fill\":{\"color\":\"#EBF0F8\"},\"line\":{\"color\":\"white\"}},\"header\":{\"fill\":{\"color\":\"#C8D4E3\"},\"line\":{\"color\":\"white\"}},\"type\":\"table\"}],\"barpolar\":[{\"marker\":{\"line\":{\"color\":\"#E5ECF6\",\"width\":0.5},\"pattern\":{\"fillmode\":\"overlay\",\"size\":10,\"solidity\":0.2}},\"type\":\"barpolar\"}],\"pie\":[{\"automargin\":true,\"type\":\"pie\"}]},\"layout\":{\"autotypenumbers\":\"strict\",\"colorway\":[\"#636efa\",\"#EF553B\",\"#00cc96\",\"#ab63fa\",\"#FFA15A\",\"#19d3f3\",\"#FF6692\",\"#B6E880\",\"#FF97FF\",\"#FECB52\"],\"font\":{\"color\":\"#2a3f5f\"},\"hovermode\":\"closest\",\"hoverlabel\":{\"align\":\"left\"},\"paper_bgcolor\":\"white\",\"plot_bgcolor\":\"#E5ECF6\",\"polar\":{\"bgcolor\":\"#E5ECF6\",\"angularaxis\":{\"gridcolor\":\"white\",\"linecolor\":\"white\",\"ticks\":\"\"},\"radialaxis\":{\"gridcolor\":\"white\",\"linecolor\":\"white\",\"ticks\":\"\"}},\"ternary\":{\"bgcolor\":\"#E5ECF6\",\"aaxis\":{\"gridcolor\":\"white\",\"linecolor\":\"white\",\"ticks\":\"\"},\"baxis\":{\"gridcolor\":\"white\",\"linecolor\":\"white\",\"ticks\":\"\"},\"caxis\":{\"gridcolor\":\"white\",\"linecolor\":\"white\",\"ticks\":\"\"}},\"coloraxis\":{\"colorbar\":{\"outlinewidth\":0,\"ticks\":\"\"}},\"colorscale\":{\"sequential\":[[0.0,\"#0d0887\"],[0.1111111111111111,\"#46039f\"],[0.2222222222222222,\"#7201a8\"],[0.3333333333333333,\"#9c179e\"],[0.4444444444444444,\"#bd3786\"],[0.5555555555555556,\"#d8576b\"],[0.6666666666666666,\"#ed7953\"],[0.7777777777777778,\"#fb9f3a\"],[0.8888888888888888,\"#fdca26\"],[1.0,\"#f0f921\"]],\"sequentialminus\":[[0.0,\"#0d0887\"],[0.1111111111111111,\"#46039f\"],[0.2222222222222222,\"#7201a8\"],[0.3333333333333333,\"#9c179e\"],[0.4444444444444444,\"#bd3786\"],[0.5555555555555556,\"#d8576b\"],[0.6666666666666666,\"#ed7953\"],[0.7777777777777778,\"#fb9f3a\"],[0.8888888888888888,\"#fdca26\"],[1.0,\"#f0f921\"]],\"diverging\":[[0,\"#8e0152\"],[0.1,\"#c51b7d\"],[0.2,\"#de77ae\"],[0.3,\"#f1b6da\"],[0.4,\"#fde0ef\"],[0.5,\"#f7f7f7\"],[0.6,\"#e6f5d0\"],[0.7,\"#b8e186\"],[0.8,\"#7fbc41\"],[0.9,\"#4d9221\"],[1,\"#276419\"]]},\"xaxis\":{\"gridcolor\":\"white\",\"linecolor\":\"white\",\"ticks\":\"\",\"title\":{\"standoff\":15},\"zerolinecolor\":\"white\",\"automargin\":true,\"zerolinewidth\":2},\"yaxis\":{\"gridcolor\":\"white\",\"linecolor\":\"white\",\"ticks\":\"\",\"title\":{\"standoff\":15},\"zerolinecolor\":\"white\",\"automargin\":true,\"zerolinewidth\":2},\"scene\":{\"xaxis\":{\"backgroundcolor\":\"#E5ECF6\",\"gridcolor\":\"white\",\"linecolor\":\"white\",\"showbackground\":true,\"ticks\":\"\",\"zerolinecolor\":\"white\",\"gridwidth\":2},\"yaxis\":{\"backgroundcolor\":\"#E5ECF6\",\"gridcolor\":\"white\",\"linecolor\":\"white\",\"showbackground\":true,\"ticks\":\"\",\"zerolinecolor\":\"white\",\"gridwidth\":2},\"zaxis\":{\"backgroundcolor\":\"#E5ECF6\",\"gridcolor\":\"white\",\"linecolor\":\"white\",\"showbackground\":true,\"ticks\":\"\",\"zerolinecolor\":\"white\",\"gridwidth\":2}},\"shapedefaults\":{\"line\":{\"color\":\"#2a3f5f\"}},\"annotationdefaults\":{\"arrowcolor\":\"#2a3f5f\",\"arrowhead\":0,\"arrowwidth\":1},\"geo\":{\"bgcolor\":\"white\",\"landcolor\":\"#E5ECF6\",\"subunitcolor\":\"white\",\"showland\":true,\"showlakes\":true,\"lakecolor\":\"white\"},\"title\":{\"x\":0.05},\"mapbox\":{\"style\":\"light\"}}},\"xaxis\":{\"anchor\":\"y\",\"domain\":[0.0,1.0],\"title\":{\"text\":\"index\"}},\"yaxis\":{\"anchor\":\"x\",\"domain\":[0.0,1.0],\"title\":{\"text\":\"value\"}},\"legend\":{\"title\":{\"text\":\"variable\"},\"tracegroupgap\":0},\"margin\":{\"t\":60}},                        {\"responsive\": true}                    ).then(function(){\n",
              "                            \n",
              "var gd = document.getElementById('2ec397b3-c0b3-4b24-a615-2fd1a08c7cea');\n",
              "var x = new MutationObserver(function (mutations, observer) {{\n",
              "        var display = window.getComputedStyle(gd).display;\n",
              "        if (!display || display === 'none') {{\n",
              "            console.log([gd, 'removed!']);\n",
              "            Plotly.purge(gd);\n",
              "            observer.disconnect();\n",
              "        }}\n",
              "}});\n",
              "\n",
              "// Listen for the removal of the full notebook cells\n",
              "var notebookContainer = gd.closest('#notebook-container');\n",
              "if (notebookContainer) {{\n",
              "    x.observe(notebookContainer, {childList: true});\n",
              "}}\n",
              "\n",
              "// Listen for the clearing of the current output cell\n",
              "var outputEl = gd.closest('.output');\n",
              "if (outputEl) {{\n",
              "    x.observe(outputEl, {childList: true});\n",
              "}}\n",
              "\n",
              "                        })                };                            </script>        </div>\n",
              "</body>\n",
              "</html>"
            ]
          },
          "metadata": {}
        }
      ]
    },
    {
      "cell_type": "markdown",
      "id": "2d24290d-9848-4642-a5f4-f86959a373ea",
      "metadata": {
        "id": "2d24290d-9848-4642-a5f4-f86959a373ea"
      },
      "source": [
        "c) Calculate MASE.\n",
        "\n",
        "How do you interpret this metric? Does the result make sense?"
      ]
    },
    {
      "cell_type": "code",
      "execution_count": null,
      "id": "4b4a8efd-2d89-4492-bb06-5aa5b48f62ef",
      "metadata": {
        "colab": {
          "base_uri": "https://localhost:8080/"
        },
        "id": "4b4a8efd-2d89-4492-bb06-5aa5b48f62ef",
        "outputId": "b9da40ad-9c9c-4dff-9cf6-b13c29cea101"
      },
      "outputs": [
        {
          "output_type": "stream",
          "name": "stdout",
          "text": [
            "naive_MASE=np.float64(1.0307477252766177)\n"
          ]
        }
      ],
      "source": [
        "from sktime.performance_metrics.forecasting import mean_absolute_scaled_error\n",
        "\n",
        "naive_MASE = mean_absolute_scaled_error(y_true = df_test[cloth],\n",
        "                                        y_train = df_train[cloth],\n",
        "                                        y_pred = df_test[\"naive_model\"])\n",
        "\n",
        "print(f\"{naive_MASE=}\")"
      ]
    },
    {
      "cell_type": "markdown",
      "source": [
        "<details>\n",
        "    <summary><i>Response</i></summary>\n",
        "MASE or Mean Absolute Scaled Error is the mean absolute error of the forecasted values divided by the mean absolute error if we had forecasted using a naive model (read: if we had just taken the same values as the previous season). Here we forecasted using a naive model, so we expected a value close to 1 anyway.\n",
        "</details>\n",
        "\n"
      ],
      "metadata": {
        "id": "NtLLxz3R8D4J"
      },
      "id": "NtLLxz3R8D4J"
    },
    {
      "cell_type": "markdown",
      "source": [
        "d) Calculate MAE and SMAPE for the naive model.\n",
        "\n",
        "Interpret results."
      ],
      "metadata": {
        "id": "WsiXKqiUx23M"
      },
      "id": "WsiXKqiUx23M"
    },
    {
      "cell_type": "code",
      "execution_count": null,
      "id": "57207d01-fb97-40c3-a79f-5155965c8565",
      "metadata": {
        "colab": {
          "base_uri": "https://localhost:8080/"
        },
        "id": "57207d01-fb97-40c3-a79f-5155965c8565",
        "outputId": "789fba7e-a03e-4987-cafe-8c2072643345"
      },
      "outputs": [
        {
          "output_type": "stream",
          "name": "stdout",
          "text": [
            "naive_MAE=np.float64(0.0004627819396491115)\n",
            "naive_SMAPE=np.float64(0.4984216238514322)\n"
          ]
        }
      ],
      "source": [
        "from sktime.performance_metrics.forecasting import mean_absolute_error, mean_absolute_percentage_error\n",
        "\n",
        "naive_MAE = mean_absolute_error(y_true = df_test[cloth],\n",
        "                                y_pred = naive_preds)\n",
        "\n",
        "naive_SMAPE = mean_absolute_percentage_error(y_true = df_test[cloth],\n",
        "                                             y_pred = naive_preds,\n",
        "                                             symmetric=True)\n",
        "\n",
        "print(f\"{naive_MAE=}\")\n",
        "print(f\"{naive_SMAPE=}\")"
      ]
    },
    {
      "cell_type": "markdown",
      "id": "59cd650c-386e-41cc-98af-d012ed2d1cd7",
      "metadata": {
        "id": "59cd650c-386e-41cc-98af-d012ed2d1cd7"
      },
      "source": [
        "<details>\n",
        "    <summary><i>Response</i></summary>\n",
        "The Mean Absolute Error is about 0.0005. Since the time series oscillates globally between 0 and 0.005, the error is not bad: it is at 10% of the usual amplitude of this time series.\n",
        "\n",
        "SMAPE, on the other hand, is at almost 50% error. This seems to be too much compared to our intuitive perception of the graph, and given the MAE.\n",
        "\n",
        "The reason is this: SMAPE or Symmetric Mean Absolute Percentage Error, compares for each idividual point in time the error to the average of the true value and the forecast value (and then averages those over all the points in time). Our time series has very low values, especially at the beginning and end of the year. So, if, like around February, for a true value of 0.0005, we predict 0.0010, in absolute terms this a small error, but in relative terms it is far off. And this is what SMAPE calculates: the error (0.0005) divided by the average of true and forecast value (0.00075) which gives 67% for this point!\n",
        "</details>"
      ]
    },
    {
      "cell_type": "markdown",
      "source": [
        "### Modeling - Holt-Winters"
      ],
      "metadata": {
        "id": "aF84i6PQCj3H"
      },
      "id": "aF84i6PQCj3H"
    },
    {
      "cell_type": "markdown",
      "source": [
        "So, it's time to move on from our naive model to a more advanced model. Let's try the Holt-Winters model.\n",
        "In this model, we start from a base level (the last value of our train data, before we start forecasting), and complete it with a trend component and a seasonal component."
      ],
      "metadata": {
        "id": "6CjX7WqjCoMH"
      },
      "id": "6CjX7WqjCoMH"
    },
    {
      "cell_type": "markdown",
      "id": "0a7b4d16-5fcf-4b7d-93c0-56bab549ad75",
      "metadata": {
        "id": "0a7b4d16-5fcf-4b7d-93c0-56bab549ad75"
      },
      "source": [
        "e) Look closely at seasonality and trend, and determine how you want to model:\n",
        "\n",
        "- the trend, which can be additive (`trend='add'`) or multipliticative (`trend='mul'`)\n",
        "\n",
        "- the seasonality, which can also be additive (`seasonal='add'`) or multipliticative (`seasonal='mul'`)\n",
        "\n",
        "Justify your choice."
      ]
    },
    {
      "cell_type": "markdown",
      "id": "211af7f9-45c8-4240-b21c-226bea6a4bcd",
      "metadata": {
        "id": "211af7f9-45c8-4240-b21c-226bea6a4bcd"
      },
      "source": [
        "<details>\n",
        "    <summary><i>Response</i></summary>\n",
        "\n",
        "We choose a multiplicative trend, because we are getting closer to 0: an additive model could drive the trend below this threshold! (If starting from a low base level, we each time subtract the same amount, we'll end up below 0. If we multiply the low base level with the same value (less than 1), we'll get closer and closer to 0, but not below 0.)\n",
        "\n",
        "We choose an additive seasonality, because the maximum amplitude between summer and winter seems fixed year after year.\n",
        "\n",
        "So we have: `trend='mul'` and `seasonal='add'\n",
        "</details>"
      ]
    },
    {
      "cell_type": "markdown",
      "source": [
        "f) Apply a Holt-Winters model on this time series with trend and seasonal options.\n",
        "\n",
        "Display the predictions."
      ],
      "metadata": {
        "id": "dd5XUK_12mp1"
      },
      "id": "dd5XUK_12mp1"
    },
    {
      "cell_type": "code",
      "execution_count": null,
      "id": "a677aa7f-d083-46e1-8d25-98cf4eb489a9",
      "metadata": {
        "id": "a677aa7f-d083-46e1-8d25-98cf4eb489a9"
      },
      "outputs": [],
      "source": [
        "from sktime.forecasting.exp_smoothing import ExponentialSmoothing\n",
        "\n",
        "exp_smoothing = ExponentialSmoothing(trend=\"mul\", seasonal=\"add\")\n",
        "exp_smoothing.fit(df_train[cloth])\n",
        "exp_smoothing_preds = exp_smoothing.predict(fh=list(range(1,53)))"
      ]
    },
    {
      "cell_type": "code",
      "execution_count": null,
      "id": "fbd75784-3f08-431f-8446-3083d9affe44",
      "metadata": {
        "colab": {
          "base_uri": "https://localhost:8080/",
          "height": 705
        },
        "id": "fbd75784-3f08-431f-8446-3083d9affe44",
        "outputId": "993fd3c9-3528-4bc8-8305-d3db6fec3ff8"
      },
      "outputs": [
        {
          "output_type": "stream",
          "name": "stderr",
          "text": [
            "<ipython-input-31-9e52927d609b>:2: SettingWithCopyWarning:\n",
            "\n",
            "\n",
            "A value is trying to be set on a copy of a slice from a DataFrame.\n",
            "Try using .loc[row_indexer,col_indexer] = value instead\n",
            "\n",
            "See the caveats in the documentation: https://pandas.pydata.org/pandas-docs/stable/user_guide/indexing.html#returning-a-view-versus-a-copy\n",
            "\n"
          ]
        },
        {
          "output_type": "display_data",
          "data": {
            "text/html": [
              "<html>\n",
              "<head><meta charset=\"utf-8\" /></head>\n",
              "<body>\n",
              "    <div>            <script src=\"https://cdnjs.cloudflare.com/ajax/libs/mathjax/2.7.5/MathJax.js?config=TeX-AMS-MML_SVG\"></script><script type=\"text/javascript\">if (window.MathJax && window.MathJax.Hub && window.MathJax.Hub.Config) {window.MathJax.Hub.Config({SVG: {font: \"STIX-Web\"}});}</script>                <script type=\"text/javascript\">window.PlotlyConfig = {MathJaxConfig: 'local'};</script>\n",
              "        <script charset=\"utf-8\" src=\"https://cdn.plot.ly/plotly-2.35.2.min.js\"></script>                <div id=\"9696692b-8800-4828-b495-be8a4b43073b\" class=\"plotly-graph-div\" style=\"height:525px; width:100%;\"></div>            <script type=\"text/javascript\">                                    window.PLOTLYENV=window.PLOTLYENV || {};                                    if (document.getElementById(\"9696692b-8800-4828-b495-be8a4b43073b\")) {                    Plotly.newPlot(                        \"9696692b-8800-4828-b495-be8a4b43073b\",                        [{\"hovertemplate\":\"variable=top_tanksleeve_tshirtneck\\u003cbr\\u003edate=%{x}\\u003cbr\\u003evalue=%{y}\\u003cextra\\u003e\\u003c\\u002fextra\\u003e\",\"legendgroup\":\"top_tanksleeve_tshirtneck\",\"line\":{\"color\":\"#636efa\",\"dash\":\"solid\"},\"marker\":{\"symbol\":\"circle\"},\"mode\":\"lines\",\"name\":\"top_tanksleeve_tshirtneck\",\"orientation\":\"v\",\"showlegend\":true,\"x\":[\"2018-01-08T00:00:00\",\"2018-01-15T00:00:00\",\"2018-01-22T00:00:00\",\"2018-01-29T00:00:00\",\"2018-02-05T00:00:00\",\"2018-02-12T00:00:00\",\"2018-02-19T00:00:00\",\"2018-02-26T00:00:00\",\"2018-03-05T00:00:00\",\"2018-03-12T00:00:00\",\"2018-03-19T00:00:00\",\"2018-03-26T00:00:00\",\"2018-04-02T00:00:00\",\"2018-04-09T00:00:00\",\"2018-04-16T00:00:00\",\"2018-04-23T00:00:00\",\"2018-04-30T00:00:00\",\"2018-05-07T00:00:00\",\"2018-05-14T00:00:00\",\"2018-05-21T00:00:00\",\"2018-05-28T00:00:00\",\"2018-06-04T00:00:00\",\"2018-06-11T00:00:00\",\"2018-06-18T00:00:00\",\"2018-06-25T00:00:00\",\"2018-07-02T00:00:00\",\"2018-07-09T00:00:00\",\"2018-07-16T00:00:00\",\"2018-07-23T00:00:00\",\"2018-07-30T00:00:00\",\"2018-08-06T00:00:00\",\"2018-08-13T00:00:00\",\"2018-08-20T00:00:00\",\"2018-08-27T00:00:00\",\"2018-09-03T00:00:00\",\"2018-09-10T00:00:00\",\"2018-09-17T00:00:00\",\"2018-09-24T00:00:00\",\"2018-10-01T00:00:00\",\"2018-10-08T00:00:00\",\"2018-10-15T00:00:00\",\"2018-10-22T00:00:00\",\"2018-10-29T00:00:00\",\"2018-11-05T00:00:00\",\"2018-11-12T00:00:00\",\"2018-11-19T00:00:00\",\"2018-11-26T00:00:00\",\"2018-12-03T00:00:00\",\"2018-12-10T00:00:00\",\"2018-12-17T00:00:00\",\"2018-12-24T00:00:00\",\"2018-12-31T00:00:00\"],\"xaxis\":\"x\",\"y\":[0.0008917368398734,0.0002266305957333,0.0004297263771742,0.0003456731415996,0.0004353400557386,0.000673327161533,0.0006658554121827,0.0004463771299902,0.000945098012378,0.0009494561506204,0.0007750037111658,0.0005086953601928,0.0008657099169285,0.001307085075266,0.0020355829259168,0.0013853842264375,0.0016331682603321,0.0018987776804902,0.0022053843814326,0.0023671241804915,0.0022799144955723,0.0027608641408926,0.0015513011592594,0.0021925547455945,0.0028187090813989,0.0031749808180772,0.0028790112175041,0.0032664825374239,0.0031436862494573,0.0033930148474851,0.0033875685123944,0.0026453379115283,0.0032796310913308,0.0025173779882841,0.0025228019109455,0.0025040830336778,0.0020533857259461,0.0010306145348374,0.00128379431394,0.000663420340416,0.0005986115806579,0.0005807084018902,0.0007618455151797,0.000310736798668,0.0003843659651244,0.0003240563688279,0.0003114525593976,0.0003069344263844,0.0,0.0,0.0,0.0001017263260305],\"yaxis\":\"y\",\"type\":\"scatter\"},{\"hovertemplate\":\"variable=holt_winters\\u003cbr\\u003edate=%{x}\\u003cbr\\u003evalue=%{y}\\u003cextra\\u003e\\u003c\\u002fextra\\u003e\",\"legendgroup\":\"holt_winters\",\"line\":{\"color\":\"#EF553B\",\"dash\":\"solid\"},\"marker\":{\"symbol\":\"circle\"},\"mode\":\"lines\",\"name\":\"holt_winters\",\"orientation\":\"v\",\"showlegend\":true,\"x\":[\"2018-01-08T00:00:00\",\"2018-01-15T00:00:00\",\"2018-01-22T00:00:00\",\"2018-01-29T00:00:00\",\"2018-02-05T00:00:00\",\"2018-02-12T00:00:00\",\"2018-02-19T00:00:00\",\"2018-02-26T00:00:00\",\"2018-03-05T00:00:00\",\"2018-03-12T00:00:00\",\"2018-03-19T00:00:00\",\"2018-03-26T00:00:00\",\"2018-04-02T00:00:00\",\"2018-04-09T00:00:00\",\"2018-04-16T00:00:00\",\"2018-04-23T00:00:00\",\"2018-04-30T00:00:00\",\"2018-05-07T00:00:00\",\"2018-05-14T00:00:00\",\"2018-05-21T00:00:00\",\"2018-05-28T00:00:00\",\"2018-06-04T00:00:00\",\"2018-06-11T00:00:00\",\"2018-06-18T00:00:00\",\"2018-06-25T00:00:00\",\"2018-07-02T00:00:00\",\"2018-07-09T00:00:00\",\"2018-07-16T00:00:00\",\"2018-07-23T00:00:00\",\"2018-07-30T00:00:00\",\"2018-08-06T00:00:00\",\"2018-08-13T00:00:00\",\"2018-08-20T00:00:00\",\"2018-08-27T00:00:00\",\"2018-09-03T00:00:00\",\"2018-09-10T00:00:00\",\"2018-09-17T00:00:00\",\"2018-09-24T00:00:00\",\"2018-10-01T00:00:00\",\"2018-10-08T00:00:00\",\"2018-10-15T00:00:00\",\"2018-10-22T00:00:00\",\"2018-10-29T00:00:00\",\"2018-11-05T00:00:00\",\"2018-11-12T00:00:00\",\"2018-11-19T00:00:00\",\"2018-11-26T00:00:00\",\"2018-12-03T00:00:00\",\"2018-12-10T00:00:00\",\"2018-12-17T00:00:00\",\"2018-12-24T00:00:00\",\"2018-12-31T00:00:00\"],\"xaxis\":\"x\",\"y\":[0.00023732870235980354,0.0002183468928949493,0.0007331897654634491,0.00047288122700034775,0.0002026551353339276,0.0006554012328509161,0.000501112007873622,0.0005481296469233235,0.0008453302520790689,0.0004505372272377966,0.0008025088465976166,0.0008986208831425855,0.0005526707386135963,0.0010277452114758725,0.0009088456817194566,0.000809142248652018,0.001457006235664329,0.001486345285220326,0.001473472129780724,0.0019252456601188072,0.0021746730361003786,0.002888070573305988,0.0023660139498619067,0.0029982626802721435,0.003021405496394353,0.0024106910192988633,0.0027865085175350496,0.003488191391401942,0.0030100284048680476,0.0033182057382969764,0.0026430868864892386,0.0027946611127181355,0.002114613172148218,0.0025443766946148063,0.0024137205184756793,0.0020049721046406037,0.0016185329547789406,0.0012379962477683114,0.0010023954064663635,0.0009205891725673662,0.00045245932048828413,0.0006549823671002175,0.00037997944310281194,0.0005376044889683879,0.000376944466095849,0.0004279281135179158,0.00036031764378427597,0.0005316702944706095,0.00010115462067474359,0.000287135876893942,0.00022244854941787262,0.0002263638988342189],\"yaxis\":\"y\",\"type\":\"scatter\"}],                        {\"template\":{\"data\":{\"histogram2dcontour\":[{\"type\":\"histogram2dcontour\",\"colorbar\":{\"outlinewidth\":0,\"ticks\":\"\"},\"colorscale\":[[0.0,\"#0d0887\"],[0.1111111111111111,\"#46039f\"],[0.2222222222222222,\"#7201a8\"],[0.3333333333333333,\"#9c179e\"],[0.4444444444444444,\"#bd3786\"],[0.5555555555555556,\"#d8576b\"],[0.6666666666666666,\"#ed7953\"],[0.7777777777777778,\"#fb9f3a\"],[0.8888888888888888,\"#fdca26\"],[1.0,\"#f0f921\"]]}],\"choropleth\":[{\"type\":\"choropleth\",\"colorbar\":{\"outlinewidth\":0,\"ticks\":\"\"}}],\"histogram2d\":[{\"type\":\"histogram2d\",\"colorbar\":{\"outlinewidth\":0,\"ticks\":\"\"},\"colorscale\":[[0.0,\"#0d0887\"],[0.1111111111111111,\"#46039f\"],[0.2222222222222222,\"#7201a8\"],[0.3333333333333333,\"#9c179e\"],[0.4444444444444444,\"#bd3786\"],[0.5555555555555556,\"#d8576b\"],[0.6666666666666666,\"#ed7953\"],[0.7777777777777778,\"#fb9f3a\"],[0.8888888888888888,\"#fdca26\"],[1.0,\"#f0f921\"]]}],\"heatmap\":[{\"type\":\"heatmap\",\"colorbar\":{\"outlinewidth\":0,\"ticks\":\"\"},\"colorscale\":[[0.0,\"#0d0887\"],[0.1111111111111111,\"#46039f\"],[0.2222222222222222,\"#7201a8\"],[0.3333333333333333,\"#9c179e\"],[0.4444444444444444,\"#bd3786\"],[0.5555555555555556,\"#d8576b\"],[0.6666666666666666,\"#ed7953\"],[0.7777777777777778,\"#fb9f3a\"],[0.8888888888888888,\"#fdca26\"],[1.0,\"#f0f921\"]]}],\"heatmapgl\":[{\"type\":\"heatmapgl\",\"colorbar\":{\"outlinewidth\":0,\"ticks\":\"\"},\"colorscale\":[[0.0,\"#0d0887\"],[0.1111111111111111,\"#46039f\"],[0.2222222222222222,\"#7201a8\"],[0.3333333333333333,\"#9c179e\"],[0.4444444444444444,\"#bd3786\"],[0.5555555555555556,\"#d8576b\"],[0.6666666666666666,\"#ed7953\"],[0.7777777777777778,\"#fb9f3a\"],[0.8888888888888888,\"#fdca26\"],[1.0,\"#f0f921\"]]}],\"contourcarpet\":[{\"type\":\"contourcarpet\",\"colorbar\":{\"outlinewidth\":0,\"ticks\":\"\"}}],\"contour\":[{\"type\":\"contour\",\"colorbar\":{\"outlinewidth\":0,\"ticks\":\"\"},\"colorscale\":[[0.0,\"#0d0887\"],[0.1111111111111111,\"#46039f\"],[0.2222222222222222,\"#7201a8\"],[0.3333333333333333,\"#9c179e\"],[0.4444444444444444,\"#bd3786\"],[0.5555555555555556,\"#d8576b\"],[0.6666666666666666,\"#ed7953\"],[0.7777777777777778,\"#fb9f3a\"],[0.8888888888888888,\"#fdca26\"],[1.0,\"#f0f921\"]]}],\"surface\":[{\"type\":\"surface\",\"colorbar\":{\"outlinewidth\":0,\"ticks\":\"\"},\"colorscale\":[[0.0,\"#0d0887\"],[0.1111111111111111,\"#46039f\"],[0.2222222222222222,\"#7201a8\"],[0.3333333333333333,\"#9c179e\"],[0.4444444444444444,\"#bd3786\"],[0.5555555555555556,\"#d8576b\"],[0.6666666666666666,\"#ed7953\"],[0.7777777777777778,\"#fb9f3a\"],[0.8888888888888888,\"#fdca26\"],[1.0,\"#f0f921\"]]}],\"mesh3d\":[{\"type\":\"mesh3d\",\"colorbar\":{\"outlinewidth\":0,\"ticks\":\"\"}}],\"scatter\":[{\"fillpattern\":{\"fillmode\":\"overlay\",\"size\":10,\"solidity\":0.2},\"type\":\"scatter\"}],\"parcoords\":[{\"type\":\"parcoords\",\"line\":{\"colorbar\":{\"outlinewidth\":0,\"ticks\":\"\"}}}],\"scatterpolargl\":[{\"type\":\"scatterpolargl\",\"marker\":{\"colorbar\":{\"outlinewidth\":0,\"ticks\":\"\"}}}],\"bar\":[{\"error_x\":{\"color\":\"#2a3f5f\"},\"error_y\":{\"color\":\"#2a3f5f\"},\"marker\":{\"line\":{\"color\":\"#E5ECF6\",\"width\":0.5},\"pattern\":{\"fillmode\":\"overlay\",\"size\":10,\"solidity\":0.2}},\"type\":\"bar\"}],\"scattergeo\":[{\"type\":\"scattergeo\",\"marker\":{\"colorbar\":{\"outlinewidth\":0,\"ticks\":\"\"}}}],\"scatterpolar\":[{\"type\":\"scatterpolar\",\"marker\":{\"colorbar\":{\"outlinewidth\":0,\"ticks\":\"\"}}}],\"histogram\":[{\"marker\":{\"pattern\":{\"fillmode\":\"overlay\",\"size\":10,\"solidity\":0.2}},\"type\":\"histogram\"}],\"scattergl\":[{\"type\":\"scattergl\",\"marker\":{\"colorbar\":{\"outlinewidth\":0,\"ticks\":\"\"}}}],\"scatter3d\":[{\"type\":\"scatter3d\",\"line\":{\"colorbar\":{\"outlinewidth\":0,\"ticks\":\"\"}},\"marker\":{\"colorbar\":{\"outlinewidth\":0,\"ticks\":\"\"}}}],\"scattermapbox\":[{\"type\":\"scattermapbox\",\"marker\":{\"colorbar\":{\"outlinewidth\":0,\"ticks\":\"\"}}}],\"scatterternary\":[{\"type\":\"scatterternary\",\"marker\":{\"colorbar\":{\"outlinewidth\":0,\"ticks\":\"\"}}}],\"scattercarpet\":[{\"type\":\"scattercarpet\",\"marker\":{\"colorbar\":{\"outlinewidth\":0,\"ticks\":\"\"}}}],\"carpet\":[{\"aaxis\":{\"endlinecolor\":\"#2a3f5f\",\"gridcolor\":\"white\",\"linecolor\":\"white\",\"minorgridcolor\":\"white\",\"startlinecolor\":\"#2a3f5f\"},\"baxis\":{\"endlinecolor\":\"#2a3f5f\",\"gridcolor\":\"white\",\"linecolor\":\"white\",\"minorgridcolor\":\"white\",\"startlinecolor\":\"#2a3f5f\"},\"type\":\"carpet\"}],\"table\":[{\"cells\":{\"fill\":{\"color\":\"#EBF0F8\"},\"line\":{\"color\":\"white\"}},\"header\":{\"fill\":{\"color\":\"#C8D4E3\"},\"line\":{\"color\":\"white\"}},\"type\":\"table\"}],\"barpolar\":[{\"marker\":{\"line\":{\"color\":\"#E5ECF6\",\"width\":0.5},\"pattern\":{\"fillmode\":\"overlay\",\"size\":10,\"solidity\":0.2}},\"type\":\"barpolar\"}],\"pie\":[{\"automargin\":true,\"type\":\"pie\"}]},\"layout\":{\"autotypenumbers\":\"strict\",\"colorway\":[\"#636efa\",\"#EF553B\",\"#00cc96\",\"#ab63fa\",\"#FFA15A\",\"#19d3f3\",\"#FF6692\",\"#B6E880\",\"#FF97FF\",\"#FECB52\"],\"font\":{\"color\":\"#2a3f5f\"},\"hovermode\":\"closest\",\"hoverlabel\":{\"align\":\"left\"},\"paper_bgcolor\":\"white\",\"plot_bgcolor\":\"#E5ECF6\",\"polar\":{\"bgcolor\":\"#E5ECF6\",\"angularaxis\":{\"gridcolor\":\"white\",\"linecolor\":\"white\",\"ticks\":\"\"},\"radialaxis\":{\"gridcolor\":\"white\",\"linecolor\":\"white\",\"ticks\":\"\"}},\"ternary\":{\"bgcolor\":\"#E5ECF6\",\"aaxis\":{\"gridcolor\":\"white\",\"linecolor\":\"white\",\"ticks\":\"\"},\"baxis\":{\"gridcolor\":\"white\",\"linecolor\":\"white\",\"ticks\":\"\"},\"caxis\":{\"gridcolor\":\"white\",\"linecolor\":\"white\",\"ticks\":\"\"}},\"coloraxis\":{\"colorbar\":{\"outlinewidth\":0,\"ticks\":\"\"}},\"colorscale\":{\"sequential\":[[0.0,\"#0d0887\"],[0.1111111111111111,\"#46039f\"],[0.2222222222222222,\"#7201a8\"],[0.3333333333333333,\"#9c179e\"],[0.4444444444444444,\"#bd3786\"],[0.5555555555555556,\"#d8576b\"],[0.6666666666666666,\"#ed7953\"],[0.7777777777777778,\"#fb9f3a\"],[0.8888888888888888,\"#fdca26\"],[1.0,\"#f0f921\"]],\"sequentialminus\":[[0.0,\"#0d0887\"],[0.1111111111111111,\"#46039f\"],[0.2222222222222222,\"#7201a8\"],[0.3333333333333333,\"#9c179e\"],[0.4444444444444444,\"#bd3786\"],[0.5555555555555556,\"#d8576b\"],[0.6666666666666666,\"#ed7953\"],[0.7777777777777778,\"#fb9f3a\"],[0.8888888888888888,\"#fdca26\"],[1.0,\"#f0f921\"]],\"diverging\":[[0,\"#8e0152\"],[0.1,\"#c51b7d\"],[0.2,\"#de77ae\"],[0.3,\"#f1b6da\"],[0.4,\"#fde0ef\"],[0.5,\"#f7f7f7\"],[0.6,\"#e6f5d0\"],[0.7,\"#b8e186\"],[0.8,\"#7fbc41\"],[0.9,\"#4d9221\"],[1,\"#276419\"]]},\"xaxis\":{\"gridcolor\":\"white\",\"linecolor\":\"white\",\"ticks\":\"\",\"title\":{\"standoff\":15},\"zerolinecolor\":\"white\",\"automargin\":true,\"zerolinewidth\":2},\"yaxis\":{\"gridcolor\":\"white\",\"linecolor\":\"white\",\"ticks\":\"\",\"title\":{\"standoff\":15},\"zerolinecolor\":\"white\",\"automargin\":true,\"zerolinewidth\":2},\"scene\":{\"xaxis\":{\"backgroundcolor\":\"#E5ECF6\",\"gridcolor\":\"white\",\"linecolor\":\"white\",\"showbackground\":true,\"ticks\":\"\",\"zerolinecolor\":\"white\",\"gridwidth\":2},\"yaxis\":{\"backgroundcolor\":\"#E5ECF6\",\"gridcolor\":\"white\",\"linecolor\":\"white\",\"showbackground\":true,\"ticks\":\"\",\"zerolinecolor\":\"white\",\"gridwidth\":2},\"zaxis\":{\"backgroundcolor\":\"#E5ECF6\",\"gridcolor\":\"white\",\"linecolor\":\"white\",\"showbackground\":true,\"ticks\":\"\",\"zerolinecolor\":\"white\",\"gridwidth\":2}},\"shapedefaults\":{\"line\":{\"color\":\"#2a3f5f\"}},\"annotationdefaults\":{\"arrowcolor\":\"#2a3f5f\",\"arrowhead\":0,\"arrowwidth\":1},\"geo\":{\"bgcolor\":\"white\",\"landcolor\":\"#E5ECF6\",\"subunitcolor\":\"white\",\"showland\":true,\"showlakes\":true,\"lakecolor\":\"white\"},\"title\":{\"x\":0.05},\"mapbox\":{\"style\":\"light\"}}},\"xaxis\":{\"anchor\":\"y\",\"domain\":[0.0,1.0],\"title\":{\"text\":\"date\"}},\"yaxis\":{\"anchor\":\"x\",\"domain\":[0.0,1.0],\"title\":{\"text\":\"value\"}},\"legend\":{\"title\":{\"text\":\"variable\"},\"tracegroupgap\":0},\"margin\":{\"t\":60}},                        {\"responsive\": true}                    ).then(function(){\n",
              "                            \n",
              "var gd = document.getElementById('9696692b-8800-4828-b495-be8a4b43073b');\n",
              "var x = new MutationObserver(function (mutations, observer) {{\n",
              "        var display = window.getComputedStyle(gd).display;\n",
              "        if (!display || display === 'none') {{\n",
              "            console.log([gd, 'removed!']);\n",
              "            Plotly.purge(gd);\n",
              "            observer.disconnect();\n",
              "        }}\n",
              "}});\n",
              "\n",
              "// Listen for the removal of the full notebook cells\n",
              "var notebookContainer = gd.closest('#notebook-container');\n",
              "if (notebookContainer) {{\n",
              "    x.observe(notebookContainer, {childList: true});\n",
              "}}\n",
              "\n",
              "// Listen for the clearing of the current output cell\n",
              "var outputEl = gd.closest('.output');\n",
              "if (outputEl) {{\n",
              "    x.observe(outputEl, {childList: true});\n",
              "}}\n",
              "\n",
              "                        })                };                            </script>        </div>\n",
              "</body>\n",
              "</html>"
            ]
          },
          "metadata": {}
        }
      ],
      "source": [
        "# create a new column \"holt_winters\" with holt_winters predictions\n",
        "df_test[\"holt_winters\"] = exp_smoothing_preds\n",
        "\n",
        "# visualize data\n",
        "fig = px.line(df_test, x=\"date\", y=[cloth, \"holt_winters\"])\n",
        "fig.show()"
      ]
    },
    {
      "cell_type": "markdown",
      "source": [
        "g) Calculate error metrics for this new model (MAE, MASE and SMAPE) as you did questions c) and d).\n",
        "\n",
        "Do you get a better performance? Interpret results."
      ],
      "metadata": {
        "id": "_oMKzJSK20Lc"
      },
      "id": "_oMKzJSK20Lc"
    },
    {
      "cell_type": "code",
      "execution_count": null,
      "id": "67baf764-61d7-4d31-94a4-9ada675e190c",
      "metadata": {
        "colab": {
          "base_uri": "https://localhost:8080/"
        },
        "id": "67baf764-61d7-4d31-94a4-9ada675e190c",
        "outputId": "2f8d0225-93b0-47c3-c9da-f91eb0390008"
      },
      "outputs": [
        {
          "output_type": "stream",
          "name": "stdout",
          "text": [
            "exp_smoothing_MAE=0.0003048290581293239\n",
            "exp_smoothing_SMAPE=0.3900722390547852\n",
            "exp_smoothing_MASE=0.6789414870062717\n"
          ]
        }
      ],
      "source": [
        "exp_smoothing_MAE = mean_absolute_error(y_true = df_test[cloth],\n",
        "                                        y_pred = exp_smoothing_preds)\n",
        "\n",
        "exp_smoothing_SMAPE = mean_absolute_percentage_error(y_true = df_test[cloth],\n",
        "                                                     y_pred = exp_smoothing_preds,\n",
        "                                                     symmetric=True)\n",
        "\n",
        "exp_smoothing_MASE = mean_absolute_scaled_error(y_true = df_test[cloth],\n",
        "                                                y_pred = exp_smoothing_preds,\n",
        "                                                y_train = df_train[cloth])\n",
        "\n",
        "print(f\"{exp_smoothing_MAE=}\")\n",
        "print(f\"{exp_smoothing_SMAPE=}\")\n",
        "print(f\"{exp_smoothing_MASE=}\")"
      ]
    },
    {
      "cell_type": "markdown",
      "id": "ca3ab371-c7e0-4b58-bd77-f4faf805185b",
      "metadata": {
        "id": "ca3ab371-c7e0-4b58-bd77-f4faf805185b"
      },
      "source": [
        "Predictions are very close to reality. We also observe an improvement according to all our metrics: this model is indeed an improvement compared to the naive model.\n",
        "\n",
        "The MASE allows us to quantify specifically the improvement compared to the naive model: with a value of `0.68`, we can verify that our Holt-Winters model is 1/3 better than a naive model."
      ]
    }
  ],
  "metadata": {
    "kernelspec": {
      "display_name": "Python 3",
      "language": "python",
      "name": "python3"
    },
    "language_info": {
      "codemirror_mode": {
        "name": "ipython",
        "version": 3
      },
      "file_extension": ".py",
      "mimetype": "text/x-python",
      "name": "python",
      "nbconvert_exporter": "python",
      "pygments_lexer": "ipython3",
      "version": "3.9.5"
    },
    "colab": {
      "provenance": [],
      "include_colab_link": true
    }
  },
  "nbformat": 4,
  "nbformat_minor": 5
}